{
  "nbformat": 4,
  "nbformat_minor": 0,
  "metadata": {
    "colab": {
      "name": "Yolov3.ipynb",
      "provenance": [],
      "collapsed_sections": []
    },
    "kernelspec": {
      "name": "python3",
      "display_name": "Python 3"
    },
    "accelerator": "GPU"
  },
  "cells": [
    {
      "cell_type": "code",
      "metadata": {
        "id": "T4l2mz5eIw6i",
        "colab_type": "code",
        "colab": {}
      },
      "source": [
        "#importing the classes required for the data set to process"
      ],
      "execution_count": 0,
      "outputs": []
    },
    {
      "cell_type": "code",
      "metadata": {
        "id": "IJ1E7pNVI3DP",
        "colab_type": "code",
        "outputId": "66c64eff-dad8-4d51-f03a-8cf3826aea63",
        "colab": {
          "base_uri": "https://localhost:8080/",
          "height": 80
        }
      },
      "source": [
        "from tensorflow.keras.layers import Input,MaxPool2D,Conv2D,Dense,Flatten,BatchNormalization,GlobalAveragePooling2D\n",
        "from tensorflow.keras.models import Model\n",
        "from tensorflow.keras.utils import plot_model\n",
        "from tensorflow.keras.layers import LeakyReLU,add,Activation\n",
        "import tensorflow as tf\n",
        "from tensorflow.keras.layers import Reshape,UpSampling2D,ZeroPadding2D,Concatenate,Lambda\n",
        "import tensorflow.keras.backend as K\n",
        "import numpy as np\n",
        "import os\n",
        "import cv2\n",
        "import random\n",
        "import cv2\n",
        "import matplotlib.pyplot as plt\n",
        "from tensorflow.keras.callbacks import ModelCheckpoint,CSVLogger,EarlyStopping,ReduceLROnPlateau,TensorBoard\n",
        "from tensorflow.keras import optimizers\n",
        "import sys\n",
        "from tensorflow.keras.regularizers import l2\n",
        "import tensorflow as tf\n",
        "from tensorflow.python.framework import graph_io"
      ],
      "execution_count": 1,
      "outputs": [
        {
          "output_type": "display_data",
          "data": {
            "text/html": [
              "<p style=\"color: red;\">\n",
              "The default version of TensorFlow in Colab will soon switch to TensorFlow 2.x.<br>\n",
              "We recommend you <a href=\"https://www.tensorflow.org/guide/migrate\" target=\"_blank\">upgrade</a> now \n",
              "or ensure your notebook will continue to use TensorFlow 1.x via the <code>%tensorflow_version 1.x</code> magic:\n",
              "<a href=\"https://colab.research.google.com/notebooks/tensorflow_version.ipynb\" target=\"_blank\">more info</a>.</p>\n"
            ],
            "text/plain": [
              "<IPython.core.display.HTML object>"
            ]
          },
          "metadata": {
            "tags": []
          }
        }
      ]
    },
    {
      "cell_type": "markdown",
      "metadata": {
        "id": "jTDfmJwAJPME",
        "colab_type": "text"
      },
      "source": [
        "Defining the parameters required for the yolo v3 its the \n",
        "same as Darknet 53 model"
      ]
    },
    {
      "cell_type": "code",
      "metadata": {
        "id": "aN7-7UY8JOug",
        "colab_type": "code",
        "colab": {}
      },
      "source": [
        "m = 0.9\n",
        "e = 0.0005\n",
        "l_r = 0.001\n",
        "ra = 0.1\n",
        "img_rows= 416\n",
        "img_cols = 416\n",
        "num_channels = 3\n",
        "input_shape = (416,416)\n",
        "\n",
        "#Definition of anchors as per the paper:\n",
        "\n",
        "anchors = np.array([[10,13],[16,30],[33,23],[30,61],[62,45],[59,119],[116,90],[156,198],[373,326]])\n",
        "mask = 0,1,2\n",
        "jitter = .3\n",
        "ignore_thresh=0.7\n",
        "truth_thresh = 1\n",
        "\n",
        "dic={0:'falcon', 1:'goose', 2:'great argus', 3:'kingfishers', 4:'parrots', 5:'penguins', 6:'rails', 7:'secretary bird', 8:'bee-eater', 9:'bittern', 10:'bulbuls', 11:'chachalaca', 12:'crane', 13:'cuckoos', 14:'curassow', 15:'duck', 16:'eagle',17:'erget', 18:'francolin', 19:'guan', 20:'hawk',21: 'heron', 22:'hornbill',23: 'ibis',24: 'kite',25: 'motmot',26: 'mynas',27: 'owls',28: 'partridge',29: 'peafowl',30: 'pelicans',31: 'pheasant',32: 'pigeons',33: 'pittas',34: 'quail',35: 'screamers',36: 'shorebirds',37: 'sparrow',38: 'spoonbill',39: 'spurfowl',40: 'storks',41: 'swan',42: 'tody',43: 'toucans',44: 'tragons',45: 'trgopan',46: 'turacos',47: 'vulture',48: 'woodpeckers'}\n",
        "\n",
        "num_classes = len(dic)"
      ],
      "execution_count": 0,
      "outputs": []
    },
    {
      "cell_type": "markdown",
      "metadata": {
        "id": "2S2K9qtLJI7a",
        "colab_type": "text"
      },
      "source": [
        "Defining the YOLO residual and functional layers\n"
      ]
    },
    {
      "cell_type": "code",
      "metadata": {
        "id": "WGWYxw4EI57X",
        "colab_type": "code",
        "colab": {}
      },
      "source": [
        "#Following the custom model for the yolo networks. The block represents the residual blocks for the same\n",
        "#Note using Batch Normalization after using convolution layers\n",
        "def residual_darknet53(Inp,num_Filters):\n",
        "  x = Conv2D(num_Filters,kernel_size=(1,1),use_bias=False,kernel_regularizer = l2(5e-4))(Inp)\n",
        "  x = BatchNormalization(axis = -1,momentum = m,epsilon=e)(x)\n",
        "  x = LeakyReLU(alpha = ra)(x)\n",
        "\n",
        "  x = Conv2D(num_Filters*2,kernel_size=(3,3),padding='same',use_bias=False,kernel_regularizer = l2(5e-4))(x) \n",
        "  x = BatchNormalization(axis = -1,momentum=m,epsilon=e)(x)\n",
        "  x =  LeakyReLU(alpha = ra)(x)\n",
        "  return x \n",
        "\n",
        "def residual_blk_darknet(Inp,num_Filter):\n",
        "  x = Inp\n",
        "  y = Inp\n",
        "  y = residual_darknet53(y,num_Filter)\n",
        "  x = add([x,y])\n",
        "  return x  "
      ],
      "execution_count": 0,
      "outputs": []
    },
    {
      "cell_type": "code",
      "metadata": {
        "id": "N3ZLuo_RJuEa",
        "colab_type": "code",
        "colab": {}
      },
      "source": [
        "#Standard convolution layers used for striding\n",
        "def conv2DDownSample(Inp,num_Filter):\n",
        "  x=ZeroPadding2D(((1,0),(1,0)))(Inp)\n",
        "  x=Conv2D(num_Filter,kernel_size=(3,3),strides=(2,2),use_bias=False,kernel_regularizer = l2(5e-4))(x)\n",
        "  x=BatchNormalization(axis=-1,momentum=m,epsilon=e)(x)\n",
        "  x=LeakyReLU(alpha=ra)(x)\n",
        "  return x \n",
        "\n",
        "#Standard initial convolution layer without striding\n",
        "def conv2d_block(Inp,filters,kernel):\n",
        "  x = Conv2D(filters,kernel_size=(kernel,kernel),padding='same',use_bias=False,kernel_regularizer = l2(5e-4))(Inp)\n",
        "  x = BatchNormalization(axis = -1,momentum=m,epsilon=e)(x)\n",
        "  x = LeakyReLU(alpha=ra) (x)\n",
        "  \n",
        "  return x\n",
        "\n",
        "def conv2d_block_bias(Inp,filters,kernel):\n",
        "  x = Conv2D(filters,kernel_size=(kernel,kernel),padding='same',kernel_regularizer = l2(5e-4))(Inp)  \n",
        "  return x"
      ],
      "execution_count": 0,
      "outputs": []
    },
    {
      "cell_type": "code",
      "metadata": {
        "id": "0RT4cjD1J8BJ",
        "colab_type": "code",
        "colab": {}
      },
      "source": [
        "#Base model:\n",
        "\n",
        "def darknet_53(inp):\n",
        "  #Inp = Input(shape=(img_rows,img_cols,num_channels))\n",
        "  x = conv2d_block(inp,32,3)\n",
        "  x = conv2DDownSample(x,64) #downsampling part1\n",
        "  x = residual_blk_darknet(x,32) #residual block with activation linear\n",
        "  x = conv2DDownSample(x,128) #convolution downsampling\n",
        "  for _ in range(2):\n",
        "    x = residual_blk_darknet(x,64)\n",
        "  x = conv2DDownSample(x,256) #convolution downsampling\n",
        "  for _ in range(8):\n",
        "      x = residual_blk_darknet(x,128)\n",
        "  route_1 = Model(inp,x)\n",
        "  x = conv2DDownSample(x,512) #convolution downsampling\n",
        "  for _ in range(8):\n",
        "      x = residual_blk_darknet(x,256)\n",
        "  route_2 = Model(inp,x)\n",
        "  x = conv2DDownSample(x,1024) #convolution downsampling    \n",
        "  for _ in range(4):\n",
        "      x = residual_blk_darknet(x,512)\n",
        "  model = Model(inp,x)\n",
        "  return route_1,route_2,model     \n"
      ],
      "execution_count": 0,
      "outputs": []
    },
    {
      "cell_type": "code",
      "metadata": {
        "id": "nN-9bBMsKCfh",
        "colab_type": "code",
        "colab": {}
      },
      "source": [
        "#The pyramidal feature mapping of the yolo. The following layers are added at different layers of the base model The pyramid network extracts the features at 3 different scales. At the output pf the base model we get the data of grid size 13x13\n",
        "#Since the data has neem down sampled 5 times assuming the data size as 416 it self. \n",
        "#The data added at the last layer with some convolution strides. 2 routes are defined for the same: \n",
        "#The feature scaling factor is similar to the one used in the standard residual networks. \n",
        "\n",
        "\n",
        "def yolo_convolution_block(inputs,filters,out_filters):\n",
        "  print(out_filters)\n",
        "  inputs = conv2d_block(inputs,filters,kernel=1)\n",
        "  inputs = conv2d_block(inputs,filters*2,kernel=3)\n",
        "  inputs = conv2d_block(inputs,filters,kernel=1)\n",
        "  inputs = conv2d_block(inputs,filters*2,kernel=3)\n",
        "  inputs = conv2d_block(inputs,filters,kernel=1)\n",
        "\n",
        "  route = inputs\n",
        "\n",
        "  inputs = conv2d_block(inputs,filters*2,kernel=3)\n",
        "  inputs = conv2d_block_bias(inputs,out_filters,kernel=1)\n",
        "  \n",
        "  return route,inputs\n",
        "  \n",
        "#The data obtained from the layers above is obtained as darknet 53 route1 route2  the below function forms the yolo body. The first layer gives the feature maps at layer 13x13 second at 26x26 and 3rd at 52x52 respectively. \n",
        "def yolo_body(inputs,num_anchors,num_classes):\n",
        "  route1,route2,darknet53 = darknet_53(inputs)\n",
        "  \n",
        "  #the second last layer of darknet 53 contains 512 filters\n",
        "  route,last1 = yolo_convolution_block(darknet53.output,512,num_anchors*(num_classes+5))\n",
        "  #upsampling the 2nd last layer\n",
        "  route = conv2d_block(route,256,1)\n",
        "  route = UpSampling2D((2,2))(route)\n",
        "  \n",
        "  route = Concatenate()([route,route2.output])\n",
        "  #repeating the same process for the 2nd last layer\n",
        "  #256 as the second to the second last layer makes use of 256 filters\n",
        "  route,last2 = yolo_convolution_block(route,256,num_anchors*(num_classes+5))\n",
        "  \n",
        "  #downsampling it further\n",
        "  route = conv2d_block(route,128,1)\n",
        "  route = UpSampling2D((2,2))(route)\n",
        "  route = Concatenate()([route,route1.output])\n",
        "  \n",
        "  #repeating the process for the final time\n",
        "  route,last3 = yolo_convolution_block(route,128,num_anchors*(num_classes+5))\n",
        "  return Model(inputs,[last1,last2,last3])\n",
        "  #Adding the upsampled feature with the output layer-1\n"
      ],
      "execution_count": 0,
      "outputs": []
    },
    {
      "cell_type": "code",
      "metadata": {
        "id": "VyA5_zY3LYpz",
        "colab_type": "code",
        "colab": {}
      },
      "source": [
        "#Based on the outputs obtained from the last layer we can further generate to predict box center height width and center points. \n",
        "\n",
        "def yolo_head(feats,anchors,num_classes,input_shape,calc_loss=False):\n",
        "  \"\"\"\n",
        "  Converting the final layer obtained to bounding box parameters\n",
        "\n",
        "  Parameters are defined as follows:\n",
        "  ----------------------------------\n",
        "  feats: tensor\n",
        "    Final convolution layer features\n",
        "    anchors : array-like Anchor-box width and height\n",
        "    num_classes:int\n",
        "    Number of target classes\n",
        "\n",
        "  Returns: \n",
        "  box_xy:tensor x,y prediction adjusted by spatial location in convlayer (each of the feature map level)\n",
        "  box_wh: tensor: w,h predictions adjusted by anchors and conv spatial resolution (each of the feature map level)\n",
        "  box_conf:tensor: Probability estimate to indicate whether the box contains an object or not (confidence score )\n",
        "  box_class_pred: tensor: Probability destribution of the box for each of the labels  (class prediction)\n",
        "  \"\"\"\n",
        "  #Defining the number of anchors\n",
        "  num_anchors = len(anchors)\n",
        "  #Reshaping it to batch,height,width,num_anchors,box_parameters [1,1,1,9,2 ] 9 anchors and 2 coordinates width and height\n",
        "  anchors_tensor = K.reshape(K.constant(anchors),[1,1,1,num_anchors,2])\n",
        "  \n",
        "  #This assumes the 1st and 3rd index position belongs to the width and height feats is a 5 vector consisting of 0: confidence score 1: height 2: width 3: x_point 4: y_point coordinate 5: onwards class prediction\n",
        "  grid_shape = K.shape(feats)[1:3] #height and width\n",
        "  #creating a cell mesh\n",
        "  #Dymamic implementation of conv dims for fully convolutional mode\n",
        "  #The first value of the grid shape indicates the height. This will convert the height and width in tha array grid of the mentioned size. Each element is repeated per row value\n",
        "  grid_y = K.tile(K.reshape(K.arange(0,stop=grid_shape[0]),[-1,1,1,1]),[1,grid_shape[1],1,1])\n",
        "  #Second value of the grid shape indicates the width. This indicates the \n",
        "  grid_x = K.tile(K.reshape(K.arange(0,stop=grid_shape[1]),[1,-1,1,1]),[grid_shape[0],1,1,1])\n",
        "  \"\"\"\n",
        "  e.g if grid[0],grid[1]=3\n",
        "  then values will be:\n",
        "  grid_y  grid_x\n",
        "  0 0 0   0 1 2\n",
        "  1 1 1   0 1 2  \n",
        "  2 2 2   0 1 2\n",
        "  \n",
        "  Thus forming a grid\n",
        "  \"\"\"\n",
        "  grid= K.concatenate([grid_x,grid_y])\n",
        "  \"\"\"\n",
        "  The above step will do the below\n",
        "  (0,0) (0,1) (0,2)\n",
        "  (1,0) (1,1) (1,2)\n",
        "  (2,0) (2,1) (2,2)\n",
        "  \"\"\"\n",
        "  #Converting the grid obtained data type of the last convolution layer. The grid points are basically at 13x13 26x26 and 52x52\n",
        "\n",
        "  grid = K.cast(grid,K.dtype(feats))\n",
        "  #Reshaping the tensor obtained out after the resizing operation\n",
        "  #Values are reshaped as  -1 : batch size height width number of anchors number of classes\n",
        "  \"\"\"\n",
        "  The value obtained from the last layer are seperated at each grid point. 13x13 26x26 and 52x52 respectively. \n",
        "  \n",
        "  Each point is responsible for predicting a value of the box\n",
        "\n",
        "  \"\"\"\n",
        "  feats =K.reshape(feats,[-1,grid_shape[0],grid_shape[1],num_anchors,num_classes+5])\n",
        "  \n",
        "  #box_x = K.sigmoid(feats[...,0]+grid_x)/K.cast(grid_shape[1],K.dtype(feats))\n",
        "  #box_y = K.sigmoid(feats[...,1]+grid_y)/K.cast(grid_shape[0],K.dtype(feats))\n",
        "  #Center point creation normalized to height and width coordinates\n",
        "  \n",
        "  #K.sigmoid(feats[...,:2]) converts the center coordinates to values between 0 and 1\n",
        "  #grid adds the height and width values to it\n",
        "  #This value is furtherd divided with the height and widht to normalization\n",
        "  \"\"\"\n",
        "  x and y values are predicted as: \n",
        "  bx = sigmoid(pred_x)+cx/width\n",
        "  by = sigmoid(pred_y)+cy/height\n",
        "  \"\"\"\n",
        "\n",
        "  box_xy = (K.sigmoid(feats[...,:2])+grid)/K.cast(grid_shape[::-1],K.dtype(feats))\n",
        "  #Width and height extraction normalized to height and width coordinates\n",
        "  #Same process follow here apart from the fact that the expected height and width are multiplied with the anchor tensores. \n",
        "  \"\"\"\n",
        "  Width and height are calculated as below: \n",
        "  bw = pw*e^(tw)\n",
        "  bh = ph*e^(th)\n",
        "\n",
        "  pw and ph are the values of the anchor tensors \n",
        "  The values of bw and bh are further normalized with respect to height and width values\n",
        "  \"\"\"\n",
        "\n",
        "  box_wh = K.exp(feats[...,2:4])*anchors_tensor/K.cast(input_shape[::-1],K.dtype(feats))\n",
        "  #Prediction of the confidence of the box\n",
        "  \"\"\"\n",
        "  Box confidence is calculated and normalized between 0 to 1\n",
        "  \"\"\"\n",
        "  box_confidence = K.sigmoid(feats[...,4:5])\n",
        "  #Preiction of each of the class probabilites \n",
        "  \"\"\"\n",
        "  Class probabilites of different classes are calculated and normalized between 0 and 1\n",
        "  \"\"\"\n",
        "  \n",
        "  box_class_probs = K.sigmoid(feats[..., 5:])\n",
        "  #Incase of testing the not returning confidence\n",
        "  if calc_loss == True:\n",
        "    \"\"\"\n",
        "    While training of the yolo grid size (feature map size) the last layer resized and further center coordinates x,y and w and h are calculated\n",
        "    \"\"\"\n",
        "    return grid,feats,box_xy,box_wh\n",
        "  #Returning confidence as a part of the yolo heading  \n",
        "  return box_xy,box_wh, box_confidence,box_class_probs "
      ],
      "execution_count": 0,
      "outputs": []
    },
    {
      "cell_type": "markdown",
      "metadata": {
        "id": "EfvzwMa6PuBh",
        "colab_type": "text"
      },
      "source": [
        "Defining the yolo loss functions"
      ]
    },
    {
      "cell_type": "code",
      "metadata": {
        "id": "NnQ1pT_LPfqQ",
        "colab_type": "code",
        "colab": {}
      },
      "source": [
        "\"\"\"\n",
        "Defining the box IOU (intersection over union). Given 2 boxes this gives the maximum area covered by the 2 boxes. \n",
        "IOU being defined as: \n",
        "\n",
        "IOU = (Intersection-Area)/(Union Area: box1-Area + box2-Area -  Intersection area)\n",
        "\"\"\"\n",
        "\n",
        "def box_iou(b1,b2):\n",
        "  \"\"\"\n",
        "  Returning the iou tensor\n",
        "  Parameters: \n",
        "  ----------\n",
        "  b1: tensor of shape (i1,...,iN,4),xywh\n",
        "  b2: tensor, shape = (j,4), xywh\n",
        "\n",
        "  Returns\n",
        "  ------------------------\n",
        "  iou tensor,shape = (i1,...,iN,j)\n",
        "  \"\"\"\n",
        "  #Expand dim to apply broadcasting:\n",
        "  \"\"\"\n",
        "  Seperares the box height and width with the center coordinates. \n",
        "  \"\"\"\n",
        "  b1 = K.expand_dims(b1,-2)\n",
        "  #First 2 coordinates as heigy and width\n",
        "  b1_xy = b1[...,:2]\n",
        "  b1_wh = b1[...,2:4]\n",
        "  b1_wh_half = b1_wh/2.\n",
        "  b1_mins = b1_xy-b1_wh_half\n",
        "  b1_maxes = b1_xy + b1_wh_half\n",
        "\n",
        "  #Expanding 2nd box\n",
        "  b2 = K.expand_dims(b2,0)\n",
        "  b2_xy = b2[...,:2]\n",
        "  b2_wh = b2[...,2:4]\n",
        "  b2_wh_half = b2_wh/2.\n",
        "  b2_mins = b2_xy-b2_wh_half\n",
        "  b2_maxes =b2_xy + b2_wh_half\n",
        "  intersect_mins = K.maximum(b1_mins,b2_mins)\n",
        "  intersect_maxes = K.minimum(b1_maxes,b2_maxes)\n",
        "  intersect_wh = K.maximum(intersect_maxes-intersect_mins,0)\n",
        "  intersect_area = intersect_wh[...,0]* intersect_wh[...,1]\n",
        "  b1_area = b1_wh[...,0]*b1_wh[...,1]\n",
        "  b2_area = b2_wh[...,0]*b2_wh[...,1]\n",
        "  iou = intersect_area/(b1_area + b2_area - intersect_area)\n",
        "\n",
        "  return iou"
      ],
      "execution_count": 0,
      "outputs": []
    },
    {
      "cell_type": "code",
      "metadata": {
        "id": "9YAg3NOnTTBl",
        "colab_type": "code",
        "colab": {}
      },
      "source": [
        "def yolo_loss(args,anchors,num_classes,ignore_thres=.5,print_loss=True):\n",
        "  #The number of feature scaling. \n",
        "  num_layers = len(anchors)//3 #default setting This defined the number of anchors used per scale. More than one scale values used will cause the number of layers to be increased. accordingly. \n",
        "  #Prediction made at each of the feature level\n",
        "  yolo_outputs = args[:num_layers]\n",
        "  #yolo_outputs = K.print_tensor(yolo_outputs,message=\"yolo_layer_output:\")\n",
        "  #Predicted output of the mentioned inputs\n",
        "  y_true = args[num_layers:]\n",
        "  #y_true = K.print_tensor(y_true,message=\"y_true:\")\n",
        "  #The anchor mask outputs\n",
        "  \n",
        "  anchor_mask = [[6,7,8],[3,4,5],[0,1,2]] if num_layers==3 else [[3,4,5],[1,2,3]]\n",
        "  \n",
        "  input_shape = K.cast(K.shape(yolo_outputs[0])[1:3]*32,K.dtype(y_true[0]))\n",
        "  #Grid shape based on the yolo outputs\n",
        "  \n",
        "  grid_shapes = [K.cast(K.shape(yolo_outputs[l])[1:3],K.dtype(y_true[0])) for l in range(num_layers)]\n",
        "  \"\"\"\n",
        "  loss value is initialized to 0\n",
        "  \"\"\"\n",
        "  \n",
        "  loss = 0\n",
        "  #Batch size \n",
        " \n",
        "\n",
        "  m = K.shape(yolo_outputs[0])[0] #batch size, tensor\n",
        "  #Converting batch size to float\n",
        "  mf = K.cast(m,K.dtype(yolo_outputs[0]))\n",
        "  #mf = K.print_tensor(mf,message=\"mf:\")\n",
        "  for l in range(num_layers):\n",
        "    #Getting the object mask layer this gives the confidence layer. Objectiveness of each of the true values\n",
        "    object_mask = y_true[l][...,4:5]\n",
        "    #object_mask = K.print_tensor(object_mask,message=\"object_mask:\")\n",
        "    #Getting the true class probabilities. Each of the confidence score for the class values\n",
        "    true_class_probs = y_true[l] [...,5:]\n",
        "    #true_class_probs = K.print_tensor(true_class_probs,message=\"true_class_probs:\")\n",
        "    \n",
        "    grid,raw_pred,pred_xy,pred_wh = yolo_head(yolo_outputs[l],anchors[anchor_mask[l]],num_classes,input_shape,calc_loss=True)\n",
        "    #grid = K.print_tensor(grid,message=\"grid:\")\n",
        "    #raw_pred = K.print_tensor(raw_pred,message=\"raw_pred:\")\n",
        "    #pred_xy = K.print_tensor(pred_xy,message=\"pred_xy:\")\n",
        "    #Concatenating the the center point and width and height coordinates\n",
        "    \n",
        "    pred_box = K.concatenate([pred_xy,pred_wh])\n",
        "    #pred_box = K.print_tensor(pred_box,message=\"pred_box:\")\n",
        "    \n",
        "    #Darknet raw box to calculate loss. \n",
        "    #Converting the raw true values in to values yolo predicts\n",
        "    raw_true_xy = y_true[l][...,:2]*grid_shapes[l][::-1] -grid #grid acts as an offset\n",
        "    #raw_true_xy = K.print_tensor(raw_true_xy,message=\"raw_true_xy:\")\n",
        "    raw_true_wh = K.log(y_true[l][...,2:4]/anchors[anchor_mask[l]]*input_shape[::-1])\n",
        "    #raw_true_wh = K.print_tensor(raw_true_wh,message=\"raw_true_wh:\")\n",
        "    raw_true_wh = K.switch(object_mask,raw_true_wh,K.zeros_like(raw_true_wh))  #this is to avoid log(0) = -inf\n",
        "    #raw_true_wh = K.print_tensor(raw_true_wh,message=\"raw_true_wh:\")\n",
        "    box_loss_scale = 2 - y_true[l][...,2:3] * y_true[l][...,3:4]\n",
        "    #box_loss_scale = K.print_tensor(box_loss_scale,message=\"box_loss_scale:\")\n",
        "    \n",
        "    #Find ignore mask, iterate over each of the batch.....\n",
        "\n",
        "    \n",
        "    ignore_mask = tf.TensorArray(K.dtype(y_true[0]),size=1,dynamic_size=True)\n",
        "    #ignore_mask = K.print_tensor(ignore_mask,message=\"ignore_mask:\")\n",
        "    \"\"\"\n",
        "    For each of the batches this gives the value of the objectiveness score as either true or fakse\n",
        "    \"\"\"\n",
        "    object_mask_bool = K.cast(object_mask,'bool')\n",
        "\n",
        "    def loop_body(b,ignore_mask):\n",
        "      \"\"\"\n",
        "      This returns a value of true box which is masked by boolean threshold\n",
        "      If the objectiveness of the mask is 0 not not present then the loss is \n",
        "      simply not calculated. \n",
        "      \"\"\"\n",
        "      #Gives only those boxes which has object in them\n",
        "      true_box = tf.boolean_mask(y_true[l][b,...,0:4],object_mask_bool[b,...,0])\n",
        "      \"\"\"\n",
        "      At a particular batch the IOU is calculated and returned. The best of the predicting anchor is stored as \n",
        "      best_iou: the values of the best IOU remain: batch, index of anchor matching the most\n",
        "\n",
        "      \"\"\"\n",
        "      #IoU\n",
        "      iou = box_iou(pred_box[b],true_box)\n",
        "      best_iou = K.max(iou,axis=-1)\n",
        "      \"\"\"\n",
        "      Incase the threshold covered is very low then it is writtened in the ignore_mask tensor. \n",
        "      \"\"\"\n",
        "      ignore_mask = ignore_mask.write(b,K.cast(best_iou<ignore_thres,K.dtype(true_box)))\n",
        "      return b+1,ignore_mask\n",
        "    \"\"\"\n",
        "    For all the values the input argument and the batch size the values are calculated. for the mask whose IOU is less then the threshold\n",
        "    \"\"\"\n",
        "    _,ignore_mask=tf.while_loop(lambda b,*args: b<m,loop_body,[0,ignore_mask])\n",
        "    #K.control_flow_ops.while_loop(lambda b,*args: b<m,loop_body,[0,ignore_mask])\n",
        "    \"\"\"\n",
        "    The mask are further stacked. This is used in the calculation of the confidence loss\n",
        "    \"\"\"\n",
        "    ignore_mask = ignore_mask.stack()\n",
        "    ignore_mask = K.expand_dims(ignore_mask,-1)\n",
        "    #ignore_mask = K.print_tensor(ignore_mask,message=\"ignore_mask:\")\n",
        "    t1 = K.sum(raw_true_wh)\n",
        "    raw_true_wh = K.switch(tf.math.is_inf(t1),K.zeros_like(raw_true_wh),raw_true_wh)\n",
        "    #t2 = K.print_tensor(K.sum(raw_pred[...,2:4]),message = 'pred_wh:')\n",
        "    xy_loss = object_mask*box_loss_scale*K.binary_crossentropy(raw_true_xy,raw_pred[...,0:2], from_logits = True)\n",
        "    #xy_loss = K.print_tensor(xy_loss,message=\"xy_loss:\")\n",
        "    \n",
        "    wh_loss = object_mask *box_loss_scale*0.5*K.square(raw_true_wh - raw_pred[...,2:4])\n",
        "    #K.print_tensor(K.sum(wh_loss),message=\"wh_loss:\")\n",
        "    \n",
        "    confidence_loss = object_mask * K.binary_crossentropy(object_mask,raw_pred[...,4:5],from_logits=True) + (1-object_mask) * K.binary_crossentropy(object_mask,raw_pred[...,4:5],from_logits=True)*ignore_mask \n",
        "    #confidence_loss = K.print_tensor(confidence_loss,message=\"confidence_loss:\")\n",
        "    \n",
        "    \n",
        "    class_loss = object_mask *K.binary_crossentropy(true_class_probs,raw_pred[...,5:],from_logits=True)\n",
        "    #class_loss = K.print_tensor(class_loss,message=\"class_loss:\")\n",
        "    \"\"\"\n",
        "    Loss is calculated: \n",
        "\n",
        "    xy_loss: objective mask*box_loss_Scale*binary_cross_entropy(true and predicted values ) \n",
        "   \n",
        "    wh_loss: 1/2(raw_wh-raw_wh)^2*box_loss*objective_mask\n",
        "    confidence_loss: objective_mask*binary_crossentropy(confidence_true,predicted)  + (1-objective_mask)*binary_crossentropy(object_mask,raw_predictions[...,4:5])\n",
        "    class_loss: true class v/s binary_cross entropy\n",
        "    The box loss is further normalized\n",
        "    width and height are further normalized. \n",
        "    confidence_loss is summed and normalized \n",
        "    class_loss is normalized per batch \n",
        "    loss are summed xy_loss+ confidence_loss and class_loss\n",
        "    \"\"\"  \n",
        "    \n",
        "    xy_loss = K.sum(xy_loss) /mf\n",
        "\n",
        "    \n",
        "    \n",
        "    wh_loss = K.sum(wh_loss) /mf\n",
        "    #wh_loss = K.print_tensor(wh_loss,message=\"\\nwh_loss after:\")\n",
        "    confidence_loss = K.sum(confidence_loss)/mf\n",
        "    #confidence_loss = K.print_tensor(confidence_loss,message=\"confidence_loss:\")\n",
        "    class_loss = K.sum(class_loss)/mf\n",
        "\n",
        "    #class_loss = K.print_tensor(class_loss,message=\"class_loss:\")\n",
        "    \n",
        "    loss += xy_loss + wh_loss + confidence_loss + class_loss\n",
        "    \n",
        "   # loss = K.print_tensor(loss,message=\"loss\")\n",
        "    \n",
        "    #tf.print(\"loss:\",loss,[loss,xy_loss,wh_loss,confidence_loss,class_loss,K.sum(ignore_mask)],output_stream=sys.stdout)\n",
        "  return loss  "
      ],
      "execution_count": 0,
      "outputs": []
    },
    {
      "cell_type": "markdown",
      "metadata": {
        "id": "o0Ie6rhFyskS",
        "colab_type": "text"
      },
      "source": [
        "Creation of the data generator function"
      ]
    },
    {
      "cell_type": "code",
      "metadata": {
        "id": "my_-dC4gzmES",
        "colab_type": "code",
        "colab": {}
      },
      "source": [
        "from google.colab import drive\n",
        "drive.mount('/content/drive')"
      ],
      "execution_count": 0,
      "outputs": []
    },
    {
      "cell_type": "code",
      "metadata": {
        "id": "MRGowqCZzmp5",
        "colab_type": "code",
        "colab": {}
      },
      "source": [
        "\"\"\"\n",
        "Creating a dictionary of the input images and the classes. \n",
        "\"\"\"\n",
        "\n",
        "weights_dir = \"/content/drive/My Drive/Colab Notebooks/\"\n",
        "data_dir= \"/content/drive/My Drive/Colab Notebooks/DataSet\"\n",
        "Img_dir = \"/content/drive/My Drive/Colab Notebooks/DataSet/Image\"\n",
        "Lab_dir = \"/content/drive/My Drive/Colab Notebooks/DataSet/Label\"\n",
        "image_data = sorted(os.listdir('/content/drive/My Drive/Colab Notebooks/DataSet/Image'))\n",
        "label_data = sorted(os.listdir('/content/drive/My Drive/Colab Notebooks/DataSet/Label'))"
      ],
      "execution_count": 0,
      "outputs": []
    },
    {
      "cell_type": "code",
      "metadata": {
        "id": "iSWxEEsd0EzH",
        "colab_type": "code",
        "outputId": "3f718a44-a139-4fcb-e0db-64e2725f57f2",
        "colab": {
          "base_uri": "https://localhost:8080/",
          "height": 51
        }
      },
      "source": [
        "print(f\"The number of Images in the dataset include {len(image_data)}\")\n",
        "print(f\"The corresponding labels in the dataset include {len(label_data)}\")"
      ],
      "execution_count": 13,
      "outputs": [
        {
          "output_type": "stream",
          "text": [
            "The number of Images in the dataset include 15048\n",
            "The corresponding labels in the dataset include 15048\n"
          ],
          "name": "stdout"
        }
      ]
    },
    {
      "cell_type": "code",
      "metadata": {
        "id": "BhIpNEnF0Rg9",
        "colab_type": "code",
        "colab": {}
      },
      "source": [
        "image_id = {i: d for i,d in enumerate(image_data)}\n",
        "label_id = {i:d for i,d in enumerate(label_data)}"
      ],
      "execution_count": 0,
      "outputs": []
    },
    {
      "cell_type": "code",
      "metadata": {
        "id": "OPKAiYDe0VPa",
        "colab_type": "code",
        "colab": {}
      },
      "source": [
        "def read_img(index,shape):\n",
        "  img = cv2.imread(Img_dir+'/'+image_id[index]) \n",
        "  w,h = img.shape[:2]\n",
        "  if (w,h)<shape:\n",
        "    img = cv2.resize(img,shape,interpolation=cv2.INTER_CUBIC)\n",
        "  img = cv2.cvtColor(img,cv2.COLOR_BGR2RGB)\n",
        "  img = np.array(img)/255.\n",
        "  return img \n",
        "\n",
        "def display_img(index):\n",
        "  img = cv2.imread(Img_dir+'/'+image_id[index])\n",
        "  img = cv2.cvtColor(img,cv2.COLOR_BGR2RGB)\n",
        "  plt.figure()\n",
        "  plt.imshow(img)\n",
        "  plt.axis('off')\n",
        "  plt.show()\n",
        "  plt.close()\n",
        "\n",
        "def readLabel(index):\n",
        "  print(label_id[index])\n",
        "  lines=open(Lab_dir+'/'+label_id[index],'r')\n",
        "  s = lines.readlines()\n",
        "  l=[]\n",
        "  for i in s:\n",
        "    i = i.strip()\n",
        "    if len(i)>1:\n",
        "      a = i.strip().split(' ')\n",
        "      d = []\n",
        "      k = 0\n",
        "      for j in a:\n",
        "        if len(j)!=0:\n",
        "          if k==0:\n",
        "            d.append(float(j))\n",
        "            k = k+1\n",
        "          else:\n",
        "             if float(j)>1:\n",
        "               d.append(float(1)) \n",
        "             else: \n",
        "               d.append(float(j))  \n",
        "      a = np.array(d)\n",
        "      a = np.roll(a,-1)\n",
        "      l.append(a)\n",
        "  l = np.array(l)  \n",
        "  lines.close()\n",
        "  return l "
      ],
      "execution_count": 0,
      "outputs": []
    },
    {
      "cell_type": "code",
      "metadata": {
        "id": "pr8UE-510oqt",
        "colab_type": "code",
        "outputId": "b161a790-f175-4a5d-aa2f-647d9b864584",
        "colab": {
          "base_uri": "https://localhost:8080/",
          "height": 34
        }
      },
      "source": [
        "#Splitting the indexes into testing and training: \n",
        "#Creation of the index datafile: \n",
        "indexes = list(image_id.keys())\n",
        "np.random.seed(30)\n",
        "total_data = len(indexes)\n",
        "random.shuffle(indexes)\n",
        "splits = 0.999\n",
        "train_index = indexes[:int(splits*total_data)]\n",
        "test_index = indexes[int(splits*total_data):]\n",
        "train_len = len(train_index)\n",
        "test_len = len(test_index)\n",
        "print(train_len,test_len)"
      ],
      "execution_count": 16,
      "outputs": [
        {
          "output_type": "stream",
          "text": [
            "15032 16\n"
          ],
          "name": "stdout"
        }
      ]
    },
    {
      "cell_type": "code",
      "metadata": {
        "id": "gf7IzaEzr0YO",
        "colab_type": "code",
        "colab": {}
      },
      "source": [
        "#Creation of a function for the validation of the appropriate bounding box for the image\n",
        "\n",
        "def preprocess_box_anchors(true_boxes,input_shape,anchors,num_classes):\n",
        "  \"\"\"\n",
        "  true boxes: array of shape (batch_Size,size of labels per image,labels)\n",
        "  input_shape is the shape of the array multiples of 32\n",
        "  anchors are the anchors used shape = N,2 w h  format\n",
        "  num_classes:integer\n",
        "  Returns\n",
        "  -------------------------------\n",
        "  y_true : list of array shaped liked yolo output for loss comparision\n",
        "  y_true is of the size m:batch_size,h,w :feature map size,objectivenss,bounding_box+objectivness_class prediction\n",
        "  \"\"\"\n",
        "  #print(true_boxes)\n",
        "  num_layers = len(anchors)//3\n",
        "  anchor_mask = [[6,7,8],[3,4,5],[0,1,2]] if num_layers == 3 else [[3,4,5],[1,2,3]]\n",
        "  boxes_xy = true_boxes[...,0:2]*input_shape\n",
        "\n",
        "  boxes_wh = true_boxes[...,2:4]*input_shape  \n",
        "  #print(boxes_xy)\n",
        "  #print(boxes_wh)\n",
        "  true_boxes =np.array(true_boxes,dtype='float32')\n",
        "  input_shape = np.array(input_shape,dtype='int32')\n",
        "  m = true_boxes.shape[0] #batch_size\n",
        "  grid_shapes = [input_shape//{0:32,1:16,2:8}[l] for l in range(num_layers)]\n",
        "  # initializing y_true values {Array of predictions across the grid} number of anchors 4 priors 1 confidence and number of clases\n",
        "  \"\"\"\n",
        "  y_true has size b:batches width,height,number of anchor per layer, 4 box + 1 confidence + class\n",
        "  \"\"\"\n",
        "  y_true = [np.zeros((m,grid_shapes[l][0],grid_shapes[l][1],len(anchor_mask[l]),5+num_classes),dtype = 'float32') for l in range(num_layers)]\n",
        "  anchors = np.expand_dims(anchors,0)\n",
        "  anchor_maxes = anchors/2.\n",
        "  anchor_mins = -anchor_maxes\n",
        "  valid_mask = boxes_wh[...,0]>0\n",
        "\n",
        "  for b in range(m):\n",
        "    # discard zero rows. \n",
        "    # Calculating the width and height of the valid mask. \n",
        "    wh = boxes_wh[b,valid_mask[b]]\n",
        "    if len(wh)!=0:\n",
        "      wh = np.expand_dims(wh,-2)\n",
        "      box_maxes = wh/2.\n",
        "      box_mins = -box_maxes\n",
        "      intersect_mins = np.maximum(box_mins,anchor_mins) #This gives the coordinates of the minimum value of the anchor box in the specified area\n",
        "      intersect_maxes = np.minimum(box_maxes,anchor_maxes) #This gives the coordinates of the area lying within the anchor min\n",
        "      \"\"\"\n",
        "    (a)--------------  (anchor_mins)\n",
        "      |(i)---------(b) |   (negative)  box min intersect mean\n",
        "      |  |        |    | \n",
        "      ---------------- (center point)            \n",
        "      |  |        |    |   (positive)\n",
        "      |  ---------(b i)|               box_max intersect max\n",
        "      --------------(anchor_maxs)  \n",
        "\n",
        "      \"\"\"\n",
        "      intersect_wh = np.maximum(intersect_maxes- intersect_mins,0.) \n",
        "      intersect_area = intersect_wh[...,0]*intersect_wh[...,1] #area = width*height\n",
        "      box_area = wh[...,0] * wh[...,1]\n",
        "      anchor_area = anchors[...,0]*anchors[...,1]\n",
        "      iou = intersect_area / (box_area+anchor_area - intersect_area) #This gives intersect over union\n",
        "      #finding box with heighest iou\n",
        "      best_anchor = np.argmax(iou,axis=-1)\n",
        "      for i1,i2 in enumerate(best_anchor):\n",
        "        for l in range(num_layers):\n",
        "          #Check if the value matches any anchor mask or not\n",
        "          if i2 in anchor_mask[l]:\n",
        "            #Calculating the height and width of the maximum obtained true box\n",
        "            \n",
        "            #print(true_boxes)\n",
        "            i = np.floor(true_boxes[b,i1,0]*grid_shapes[l][1]).astype('int32') #Scaling to original coordinates\n",
        "            if i == grid_shapes[l][1]:\n",
        "              i = i-1\n",
        "            j = np.floor(true_boxes[b,i1,1]*grid_shapes[l][0]).astype('int32') #Scaling to the value\n",
        "            if j == grid_shapes[l][0]:\n",
        "              j = j-1\n",
        "            #print(i,j)\n",
        "            #For each anchor mask trying to find which of the anchor mask fits the best\n",
        "            #Value of the i2 if present in the anchor mask\n",
        "            k = anchor_mask[l].index(i2)\n",
        "            #Calculating the confidence score of the value predicted\n",
        "            c = true_boxes[b,i1,4].astype('int32')\n",
        "            #Assigning the box priors to y_true value\n",
        "            y_true[l][b,j,i,k,0:4] = true_boxes[b,i1,0:4]\n",
        "            #confidence\n",
        "            y_true[l][b,j,i,k,4] = 1\n",
        "            #class predictions\n",
        "            y_true[l][b,j,i,k,5+c] = 1\n",
        "  return y_true  \n"
      ],
      "execution_count": 0,
      "outputs": []
    },
    {
      "cell_type": "code",
      "metadata": {
        "id": "XsQHu5Wdm1cp",
        "colab_type": "code",
        "colab": {}
      },
      "source": [
        "def get_data(index,input_shape,max_boxes = 20):  \n",
        "    box_data = np.zeros((max_boxes,5))\n",
        "    img = read_img(index,input_shape)\n",
        "    labels = readLabel(index)\n",
        "    if len(labels)>max_boxes:\n",
        "      labels = labels[:max_boxes]\n",
        "    box_data[:len(labels)] = labels\n",
        "    #print(box_data)\n",
        "    return img,box_data"
      ],
      "execution_count": 0,
      "outputs": []
    },
    {
      "cell_type": "code",
      "metadata": {
        "id": "cENLcPqgBtGG",
        "colab_type": "code",
        "colab": {}
      },
      "source": [
        "class data_generator:\n",
        "  def __init__(self,input_shape,anchors,num_classes,indexes,batch_size=32):\n",
        "    self.cur_train_index=0\n",
        "    self.batch_size= batch_size\n",
        "    self.input_shape = input_shape\n",
        "    self.anchors = anchors\n",
        "    self.num_classes = num_classes\n",
        "    self.indexes = indexes\n",
        "    #self.num_samples = len(indexes)\n",
        "  #The function would return the image data and the label value for the same\n",
        "  #maximum number of boxes per image\n",
        "\n",
        "  def next_train_data(self):\n",
        "    while 1:\n",
        "      image_data=[]\n",
        "      boxes=[]\n",
        "      for i in range(self.batch_size):\n",
        "        if self.cur_train_index >= len(self.indexes):\n",
        "          self.cur_train_index =0\n",
        "        img,box = get_data(self.indexes[self.cur_train_index],self.input_shape) \n",
        "        #print(box)\n",
        "        self.cur_train_index +=1\n",
        "        image_data.append(img)\n",
        "        boxes.append(box)\n",
        "        #print(boxes)\n",
        "      image_data = np.array(image_data)\n",
        "      box_data = np.array(boxes)\n",
        "      #print(box_data.shape)\n",
        "      y_true = preprocess_box_anchors(box_data,self.input_shape,self.anchors,self.num_classes) \n",
        "      #print([image_data,*y_true],np.zeros(batch_size))  \n",
        "      yield [image_data,*y_true],np.zeros(batch_size)"
      ],
      "execution_count": 0,
      "outputs": []
    },
    {
      "cell_type": "markdown",
      "metadata": {
        "id": "V6wl3hwPYKGm",
        "colab_type": "text"
      },
      "source": [
        "Creating the model for training images:"
      ]
    },
    {
      "cell_type": "code",
      "metadata": {
        "id": "CGwXVc0BYNuS",
        "colab_type": "code",
        "colab": {}
      },
      "source": [
        "#Creating training model\n",
        "def create_model(input_shape,anchors,num_classes):\n",
        "  #creating of the input space for the model to be trained\n",
        "  K.clear_session()\n",
        "  input_image = Input(shape=(None,None,3))\n",
        "  h,w = input_shape\n",
        "\n",
        "  num_anchors = len(anchors)\n",
        "  #default value of the true value value remains a list of 3 elements. \n",
        "  y_true = [Input(shape=(h//{0:32,1:16,2:8}[l],w//{0:32,1:16,2:8}[l],num_anchors//3,num_classes+5)) for l in range(3)]\n",
        "  model_body = yolo_body(input_image,num_anchors//3 ,num_classes) #3 anchors per layer\n",
        "  print(model_body.summary())\n",
        "  \"\"\"\n",
        "  Loading pretrained yolov3 model weights\n",
        "  \"\"\"\n",
        "  #model_body.load_weights(weights_dir+'yolo.h5')\n",
        "  \"\"\"\n",
        "  Freezing the model till the dark net layer\n",
        "  \"\"\"\n",
        "  #num = len(model_body.layers)-3\n",
        "  #for i in range(num):\n",
        "  #  model_body.layers[i].trainable = False\n",
        "  #Creating customized loss layer\n",
        "  #3 layers predicted tensor + true value of the same\n",
        "  model_loss =  Lambda(yolo_loss, output_shape=(1,), name='yolo_loss',arguments={'anchors': anchors, 'num_classes': num_classes, 'ignore_thres': 0.5})([*model_body.output, *y_true])\n",
        "  model= Model([model_body.input,*y_true],model_loss)\n",
        "  return model"
      ],
      "execution_count": 0,
      "outputs": []
    },
    {
      "cell_type": "code",
      "metadata": {
        "id": "LhkvBd_MbDO7",
        "colab_type": "code",
        "outputId": "aaa9d329-c74d-4eae-bce1-f579bb4cfa63",
        "colab": {
          "base_uri": "https://localhost:8080/",
          "height": 1000
        }
      },
      "source": [
        "seed = 30\n",
        "np.random.seed(30)\n",
        "optmz = optimizers.Adam(learning_rate = l_r)\n",
        "model_name = \"yolov3_retrain\"\n",
        "log_dir = '/content/drive/My Drive/Colab Notebooks/'\n",
        "logging = TensorBoard(log_dir=log_dir)\n",
        "filepath = \"/content/drive/My Drive/Colab Notebooks/\"+model_name+\".h5py\"\n",
        "chekpoint= ModelCheckpoint(filepath,monitor='val_loss',save_weights_only=True,save_best_only=True)\n",
        "csv_logger = CSVLogger(\"/content/drive/My Drive/Colab Notebooks/\"+model_name+\".csv\")\n",
        "reduce_lr = ReduceLROnPlateau(monitor='val_loss', factor=0.1, patience=3, verbose=1)\n",
        "early_stopping = EarlyStopping(monitor='val_loss', min_delta=0, patience=10, verbose=1)\n",
        "model = create_model(input_shape,anchors,num_classes)"
      ],
      "execution_count": 15,
      "outputs": [
        {
          "output_type": "stream",
          "text": [
            "WARNING:tensorflow:From /usr/local/lib/python3.6/dist-packages/tensorflow_core/python/ops/resource_variable_ops.py:1630: calling BaseResourceVariable.__init__ (from tensorflow.python.ops.resource_variable_ops) with constraint is deprecated and will be removed in a future version.\n",
            "Instructions for updating:\n",
            "If using Keras pass *_constraint arguments to layers.\n",
            "162\n",
            "162\n",
            "162\n",
            "Model: \"model_3\"\n",
            "__________________________________________________________________________________________________\n",
            "Layer (type)                    Output Shape         Param #     Connected to                     \n",
            "==================================================================================================\n",
            "input_1 (InputLayer)            [(None, None, None,  0                                            \n",
            "__________________________________________________________________________________________________\n",
            "conv2d (Conv2D)                 (None, None, None, 3 864         input_1[0][0]                    \n",
            "__________________________________________________________________________________________________\n",
            "batch_normalization (BatchNorma (None, None, None, 3 128         conv2d[0][0]                     \n",
            "__________________________________________________________________________________________________\n",
            "leaky_re_lu (LeakyReLU)         (None, None, None, 3 0           batch_normalization[0][0]        \n",
            "__________________________________________________________________________________________________\n",
            "zero_padding2d (ZeroPadding2D)  (None, None, None, 3 0           leaky_re_lu[0][0]                \n",
            "__________________________________________________________________________________________________\n",
            "conv2d_1 (Conv2D)               (None, None, None, 6 18432       zero_padding2d[0][0]             \n",
            "__________________________________________________________________________________________________\n",
            "batch_normalization_1 (BatchNor (None, None, None, 6 256         conv2d_1[0][0]                   \n",
            "__________________________________________________________________________________________________\n",
            "leaky_re_lu_1 (LeakyReLU)       (None, None, None, 6 0           batch_normalization_1[0][0]      \n",
            "__________________________________________________________________________________________________\n",
            "conv2d_2 (Conv2D)               (None, None, None, 3 2048        leaky_re_lu_1[0][0]              \n",
            "__________________________________________________________________________________________________\n",
            "batch_normalization_2 (BatchNor (None, None, None, 3 128         conv2d_2[0][0]                   \n",
            "__________________________________________________________________________________________________\n",
            "leaky_re_lu_2 (LeakyReLU)       (None, None, None, 3 0           batch_normalization_2[0][0]      \n",
            "__________________________________________________________________________________________________\n",
            "conv2d_3 (Conv2D)               (None, None, None, 6 18432       leaky_re_lu_2[0][0]              \n",
            "__________________________________________________________________________________________________\n",
            "batch_normalization_3 (BatchNor (None, None, None, 6 256         conv2d_3[0][0]                   \n",
            "__________________________________________________________________________________________________\n",
            "leaky_re_lu_3 (LeakyReLU)       (None, None, None, 6 0           batch_normalization_3[0][0]      \n",
            "__________________________________________________________________________________________________\n",
            "add (Add)                       (None, None, None, 6 0           leaky_re_lu_1[0][0]              \n",
            "                                                                 leaky_re_lu_3[0][0]              \n",
            "__________________________________________________________________________________________________\n",
            "zero_padding2d_1 (ZeroPadding2D (None, None, None, 6 0           add[0][0]                        \n",
            "__________________________________________________________________________________________________\n",
            "conv2d_4 (Conv2D)               (None, None, None, 1 73728       zero_padding2d_1[0][0]           \n",
            "__________________________________________________________________________________________________\n",
            "batch_normalization_4 (BatchNor (None, None, None, 1 512         conv2d_4[0][0]                   \n",
            "__________________________________________________________________________________________________\n",
            "leaky_re_lu_4 (LeakyReLU)       (None, None, None, 1 0           batch_normalization_4[0][0]      \n",
            "__________________________________________________________________________________________________\n",
            "conv2d_5 (Conv2D)               (None, None, None, 6 8192        leaky_re_lu_4[0][0]              \n",
            "__________________________________________________________________________________________________\n",
            "batch_normalization_5 (BatchNor (None, None, None, 6 256         conv2d_5[0][0]                   \n",
            "__________________________________________________________________________________________________\n",
            "leaky_re_lu_5 (LeakyReLU)       (None, None, None, 6 0           batch_normalization_5[0][0]      \n",
            "__________________________________________________________________________________________________\n",
            "conv2d_6 (Conv2D)               (None, None, None, 1 73728       leaky_re_lu_5[0][0]              \n",
            "__________________________________________________________________________________________________\n",
            "batch_normalization_6 (BatchNor (None, None, None, 1 512         conv2d_6[0][0]                   \n",
            "__________________________________________________________________________________________________\n",
            "leaky_re_lu_6 (LeakyReLU)       (None, None, None, 1 0           batch_normalization_6[0][0]      \n",
            "__________________________________________________________________________________________________\n",
            "add_1 (Add)                     (None, None, None, 1 0           leaky_re_lu_4[0][0]              \n",
            "                                                                 leaky_re_lu_6[0][0]              \n",
            "__________________________________________________________________________________________________\n",
            "conv2d_7 (Conv2D)               (None, None, None, 6 8192        add_1[0][0]                      \n",
            "__________________________________________________________________________________________________\n",
            "batch_normalization_7 (BatchNor (None, None, None, 6 256         conv2d_7[0][0]                   \n",
            "__________________________________________________________________________________________________\n",
            "leaky_re_lu_7 (LeakyReLU)       (None, None, None, 6 0           batch_normalization_7[0][0]      \n",
            "__________________________________________________________________________________________________\n",
            "conv2d_8 (Conv2D)               (None, None, None, 1 73728       leaky_re_lu_7[0][0]              \n",
            "__________________________________________________________________________________________________\n",
            "batch_normalization_8 (BatchNor (None, None, None, 1 512         conv2d_8[0][0]                   \n",
            "__________________________________________________________________________________________________\n",
            "leaky_re_lu_8 (LeakyReLU)       (None, None, None, 1 0           batch_normalization_8[0][0]      \n",
            "__________________________________________________________________________________________________\n",
            "add_2 (Add)                     (None, None, None, 1 0           add_1[0][0]                      \n",
            "                                                                 leaky_re_lu_8[0][0]              \n",
            "__________________________________________________________________________________________________\n",
            "zero_padding2d_2 (ZeroPadding2D (None, None, None, 1 0           add_2[0][0]                      \n",
            "__________________________________________________________________________________________________\n",
            "conv2d_9 (Conv2D)               (None, None, None, 2 294912      zero_padding2d_2[0][0]           \n",
            "__________________________________________________________________________________________________\n",
            "batch_normalization_9 (BatchNor (None, None, None, 2 1024        conv2d_9[0][0]                   \n",
            "__________________________________________________________________________________________________\n",
            "leaky_re_lu_9 (LeakyReLU)       (None, None, None, 2 0           batch_normalization_9[0][0]      \n",
            "__________________________________________________________________________________________________\n",
            "conv2d_10 (Conv2D)              (None, None, None, 1 32768       leaky_re_lu_9[0][0]              \n",
            "__________________________________________________________________________________________________\n",
            "batch_normalization_10 (BatchNo (None, None, None, 1 512         conv2d_10[0][0]                  \n",
            "__________________________________________________________________________________________________\n",
            "leaky_re_lu_10 (LeakyReLU)      (None, None, None, 1 0           batch_normalization_10[0][0]     \n",
            "__________________________________________________________________________________________________\n",
            "conv2d_11 (Conv2D)              (None, None, None, 2 294912      leaky_re_lu_10[0][0]             \n",
            "__________________________________________________________________________________________________\n",
            "batch_normalization_11 (BatchNo (None, None, None, 2 1024        conv2d_11[0][0]                  \n",
            "__________________________________________________________________________________________________\n",
            "leaky_re_lu_11 (LeakyReLU)      (None, None, None, 2 0           batch_normalization_11[0][0]     \n",
            "__________________________________________________________________________________________________\n",
            "add_3 (Add)                     (None, None, None, 2 0           leaky_re_lu_9[0][0]              \n",
            "                                                                 leaky_re_lu_11[0][0]             \n",
            "__________________________________________________________________________________________________\n",
            "conv2d_12 (Conv2D)              (None, None, None, 1 32768       add_3[0][0]                      \n",
            "__________________________________________________________________________________________________\n",
            "batch_normalization_12 (BatchNo (None, None, None, 1 512         conv2d_12[0][0]                  \n",
            "__________________________________________________________________________________________________\n",
            "leaky_re_lu_12 (LeakyReLU)      (None, None, None, 1 0           batch_normalization_12[0][0]     \n",
            "__________________________________________________________________________________________________\n",
            "conv2d_13 (Conv2D)              (None, None, None, 2 294912      leaky_re_lu_12[0][0]             \n",
            "__________________________________________________________________________________________________\n",
            "batch_normalization_13 (BatchNo (None, None, None, 2 1024        conv2d_13[0][0]                  \n",
            "__________________________________________________________________________________________________\n",
            "leaky_re_lu_13 (LeakyReLU)      (None, None, None, 2 0           batch_normalization_13[0][0]     \n",
            "__________________________________________________________________________________________________\n",
            "add_4 (Add)                     (None, None, None, 2 0           add_3[0][0]                      \n",
            "                                                                 leaky_re_lu_13[0][0]             \n",
            "__________________________________________________________________________________________________\n",
            "conv2d_14 (Conv2D)              (None, None, None, 1 32768       add_4[0][0]                      \n",
            "__________________________________________________________________________________________________\n",
            "batch_normalization_14 (BatchNo (None, None, None, 1 512         conv2d_14[0][0]                  \n",
            "__________________________________________________________________________________________________\n",
            "leaky_re_lu_14 (LeakyReLU)      (None, None, None, 1 0           batch_normalization_14[0][0]     \n",
            "__________________________________________________________________________________________________\n",
            "conv2d_15 (Conv2D)              (None, None, None, 2 294912      leaky_re_lu_14[0][0]             \n",
            "__________________________________________________________________________________________________\n",
            "batch_normalization_15 (BatchNo (None, None, None, 2 1024        conv2d_15[0][0]                  \n",
            "__________________________________________________________________________________________________\n",
            "leaky_re_lu_15 (LeakyReLU)      (None, None, None, 2 0           batch_normalization_15[0][0]     \n",
            "__________________________________________________________________________________________________\n",
            "add_5 (Add)                     (None, None, None, 2 0           add_4[0][0]                      \n",
            "                                                                 leaky_re_lu_15[0][0]             \n",
            "__________________________________________________________________________________________________\n",
            "conv2d_16 (Conv2D)              (None, None, None, 1 32768       add_5[0][0]                      \n",
            "__________________________________________________________________________________________________\n",
            "batch_normalization_16 (BatchNo (None, None, None, 1 512         conv2d_16[0][0]                  \n",
            "__________________________________________________________________________________________________\n",
            "leaky_re_lu_16 (LeakyReLU)      (None, None, None, 1 0           batch_normalization_16[0][0]     \n",
            "__________________________________________________________________________________________________\n",
            "conv2d_17 (Conv2D)              (None, None, None, 2 294912      leaky_re_lu_16[0][0]             \n",
            "__________________________________________________________________________________________________\n",
            "batch_normalization_17 (BatchNo (None, None, None, 2 1024        conv2d_17[0][0]                  \n",
            "__________________________________________________________________________________________________\n",
            "leaky_re_lu_17 (LeakyReLU)      (None, None, None, 2 0           batch_normalization_17[0][0]     \n",
            "__________________________________________________________________________________________________\n",
            "add_6 (Add)                     (None, None, None, 2 0           add_5[0][0]                      \n",
            "                                                                 leaky_re_lu_17[0][0]             \n",
            "__________________________________________________________________________________________________\n",
            "conv2d_18 (Conv2D)              (None, None, None, 1 32768       add_6[0][0]                      \n",
            "__________________________________________________________________________________________________\n",
            "batch_normalization_18 (BatchNo (None, None, None, 1 512         conv2d_18[0][0]                  \n",
            "__________________________________________________________________________________________________\n",
            "leaky_re_lu_18 (LeakyReLU)      (None, None, None, 1 0           batch_normalization_18[0][0]     \n",
            "__________________________________________________________________________________________________\n",
            "conv2d_19 (Conv2D)              (None, None, None, 2 294912      leaky_re_lu_18[0][0]             \n",
            "__________________________________________________________________________________________________\n",
            "batch_normalization_19 (BatchNo (None, None, None, 2 1024        conv2d_19[0][0]                  \n",
            "__________________________________________________________________________________________________\n",
            "leaky_re_lu_19 (LeakyReLU)      (None, None, None, 2 0           batch_normalization_19[0][0]     \n",
            "__________________________________________________________________________________________________\n",
            "add_7 (Add)                     (None, None, None, 2 0           add_6[0][0]                      \n",
            "                                                                 leaky_re_lu_19[0][0]             \n",
            "__________________________________________________________________________________________________\n",
            "conv2d_20 (Conv2D)              (None, None, None, 1 32768       add_7[0][0]                      \n",
            "__________________________________________________________________________________________________\n",
            "batch_normalization_20 (BatchNo (None, None, None, 1 512         conv2d_20[0][0]                  \n",
            "__________________________________________________________________________________________________\n",
            "leaky_re_lu_20 (LeakyReLU)      (None, None, None, 1 0           batch_normalization_20[0][0]     \n",
            "__________________________________________________________________________________________________\n",
            "conv2d_21 (Conv2D)              (None, None, None, 2 294912      leaky_re_lu_20[0][0]             \n",
            "__________________________________________________________________________________________________\n",
            "batch_normalization_21 (BatchNo (None, None, None, 2 1024        conv2d_21[0][0]                  \n",
            "__________________________________________________________________________________________________\n",
            "leaky_re_lu_21 (LeakyReLU)      (None, None, None, 2 0           batch_normalization_21[0][0]     \n",
            "__________________________________________________________________________________________________\n",
            "add_8 (Add)                     (None, None, None, 2 0           add_7[0][0]                      \n",
            "                                                                 leaky_re_lu_21[0][0]             \n",
            "__________________________________________________________________________________________________\n",
            "conv2d_22 (Conv2D)              (None, None, None, 1 32768       add_8[0][0]                      \n",
            "__________________________________________________________________________________________________\n",
            "batch_normalization_22 (BatchNo (None, None, None, 1 512         conv2d_22[0][0]                  \n",
            "__________________________________________________________________________________________________\n",
            "leaky_re_lu_22 (LeakyReLU)      (None, None, None, 1 0           batch_normalization_22[0][0]     \n",
            "__________________________________________________________________________________________________\n",
            "conv2d_23 (Conv2D)              (None, None, None, 2 294912      leaky_re_lu_22[0][0]             \n",
            "__________________________________________________________________________________________________\n",
            "batch_normalization_23 (BatchNo (None, None, None, 2 1024        conv2d_23[0][0]                  \n",
            "__________________________________________________________________________________________________\n",
            "leaky_re_lu_23 (LeakyReLU)      (None, None, None, 2 0           batch_normalization_23[0][0]     \n",
            "__________________________________________________________________________________________________\n",
            "add_9 (Add)                     (None, None, None, 2 0           add_8[0][0]                      \n",
            "                                                                 leaky_re_lu_23[0][0]             \n",
            "__________________________________________________________________________________________________\n",
            "conv2d_24 (Conv2D)              (None, None, None, 1 32768       add_9[0][0]                      \n",
            "__________________________________________________________________________________________________\n",
            "batch_normalization_24 (BatchNo (None, None, None, 1 512         conv2d_24[0][0]                  \n",
            "__________________________________________________________________________________________________\n",
            "leaky_re_lu_24 (LeakyReLU)      (None, None, None, 1 0           batch_normalization_24[0][0]     \n",
            "__________________________________________________________________________________________________\n",
            "conv2d_25 (Conv2D)              (None, None, None, 2 294912      leaky_re_lu_24[0][0]             \n",
            "__________________________________________________________________________________________________\n",
            "batch_normalization_25 (BatchNo (None, None, None, 2 1024        conv2d_25[0][0]                  \n",
            "__________________________________________________________________________________________________\n",
            "leaky_re_lu_25 (LeakyReLU)      (None, None, None, 2 0           batch_normalization_25[0][0]     \n",
            "__________________________________________________________________________________________________\n",
            "add_10 (Add)                    (None, None, None, 2 0           add_9[0][0]                      \n",
            "                                                                 leaky_re_lu_25[0][0]             \n",
            "__________________________________________________________________________________________________\n",
            "zero_padding2d_3 (ZeroPadding2D (None, None, None, 2 0           add_10[0][0]                     \n",
            "__________________________________________________________________________________________________\n",
            "conv2d_26 (Conv2D)              (None, None, None, 5 1179648     zero_padding2d_3[0][0]           \n",
            "__________________________________________________________________________________________________\n",
            "batch_normalization_26 (BatchNo (None, None, None, 5 2048        conv2d_26[0][0]                  \n",
            "__________________________________________________________________________________________________\n",
            "leaky_re_lu_26 (LeakyReLU)      (None, None, None, 5 0           batch_normalization_26[0][0]     \n",
            "__________________________________________________________________________________________________\n",
            "conv2d_27 (Conv2D)              (None, None, None, 2 131072      leaky_re_lu_26[0][0]             \n",
            "__________________________________________________________________________________________________\n",
            "batch_normalization_27 (BatchNo (None, None, None, 2 1024        conv2d_27[0][0]                  \n",
            "__________________________________________________________________________________________________\n",
            "leaky_re_lu_27 (LeakyReLU)      (None, None, None, 2 0           batch_normalization_27[0][0]     \n",
            "__________________________________________________________________________________________________\n",
            "conv2d_28 (Conv2D)              (None, None, None, 5 1179648     leaky_re_lu_27[0][0]             \n",
            "__________________________________________________________________________________________________\n",
            "batch_normalization_28 (BatchNo (None, None, None, 5 2048        conv2d_28[0][0]                  \n",
            "__________________________________________________________________________________________________\n",
            "leaky_re_lu_28 (LeakyReLU)      (None, None, None, 5 0           batch_normalization_28[0][0]     \n",
            "__________________________________________________________________________________________________\n",
            "add_11 (Add)                    (None, None, None, 5 0           leaky_re_lu_26[0][0]             \n",
            "                                                                 leaky_re_lu_28[0][0]             \n",
            "__________________________________________________________________________________________________\n",
            "conv2d_29 (Conv2D)              (None, None, None, 2 131072      add_11[0][0]                     \n",
            "__________________________________________________________________________________________________\n",
            "batch_normalization_29 (BatchNo (None, None, None, 2 1024        conv2d_29[0][0]                  \n",
            "__________________________________________________________________________________________________\n",
            "leaky_re_lu_29 (LeakyReLU)      (None, None, None, 2 0           batch_normalization_29[0][0]     \n",
            "__________________________________________________________________________________________________\n",
            "conv2d_30 (Conv2D)              (None, None, None, 5 1179648     leaky_re_lu_29[0][0]             \n",
            "__________________________________________________________________________________________________\n",
            "batch_normalization_30 (BatchNo (None, None, None, 5 2048        conv2d_30[0][0]                  \n",
            "__________________________________________________________________________________________________\n",
            "leaky_re_lu_30 (LeakyReLU)      (None, None, None, 5 0           batch_normalization_30[0][0]     \n",
            "__________________________________________________________________________________________________\n",
            "add_12 (Add)                    (None, None, None, 5 0           add_11[0][0]                     \n",
            "                                                                 leaky_re_lu_30[0][0]             \n",
            "__________________________________________________________________________________________________\n",
            "conv2d_31 (Conv2D)              (None, None, None, 2 131072      add_12[0][0]                     \n",
            "__________________________________________________________________________________________________\n",
            "batch_normalization_31 (BatchNo (None, None, None, 2 1024        conv2d_31[0][0]                  \n",
            "__________________________________________________________________________________________________\n",
            "leaky_re_lu_31 (LeakyReLU)      (None, None, None, 2 0           batch_normalization_31[0][0]     \n",
            "__________________________________________________________________________________________________\n",
            "conv2d_32 (Conv2D)              (None, None, None, 5 1179648     leaky_re_lu_31[0][0]             \n",
            "__________________________________________________________________________________________________\n",
            "batch_normalization_32 (BatchNo (None, None, None, 5 2048        conv2d_32[0][0]                  \n",
            "__________________________________________________________________________________________________\n",
            "leaky_re_lu_32 (LeakyReLU)      (None, None, None, 5 0           batch_normalization_32[0][0]     \n",
            "__________________________________________________________________________________________________\n",
            "add_13 (Add)                    (None, None, None, 5 0           add_12[0][0]                     \n",
            "                                                                 leaky_re_lu_32[0][0]             \n",
            "__________________________________________________________________________________________________\n",
            "conv2d_33 (Conv2D)              (None, None, None, 2 131072      add_13[0][0]                     \n",
            "__________________________________________________________________________________________________\n",
            "batch_normalization_33 (BatchNo (None, None, None, 2 1024        conv2d_33[0][0]                  \n",
            "__________________________________________________________________________________________________\n",
            "leaky_re_lu_33 (LeakyReLU)      (None, None, None, 2 0           batch_normalization_33[0][0]     \n",
            "__________________________________________________________________________________________________\n",
            "conv2d_34 (Conv2D)              (None, None, None, 5 1179648     leaky_re_lu_33[0][0]             \n",
            "__________________________________________________________________________________________________\n",
            "batch_normalization_34 (BatchNo (None, None, None, 5 2048        conv2d_34[0][0]                  \n",
            "__________________________________________________________________________________________________\n",
            "leaky_re_lu_34 (LeakyReLU)      (None, None, None, 5 0           batch_normalization_34[0][0]     \n",
            "__________________________________________________________________________________________________\n",
            "add_14 (Add)                    (None, None, None, 5 0           add_13[0][0]                     \n",
            "                                                                 leaky_re_lu_34[0][0]             \n",
            "__________________________________________________________________________________________________\n",
            "conv2d_35 (Conv2D)              (None, None, None, 2 131072      add_14[0][0]                     \n",
            "__________________________________________________________________________________________________\n",
            "batch_normalization_35 (BatchNo (None, None, None, 2 1024        conv2d_35[0][0]                  \n",
            "__________________________________________________________________________________________________\n",
            "leaky_re_lu_35 (LeakyReLU)      (None, None, None, 2 0           batch_normalization_35[0][0]     \n",
            "__________________________________________________________________________________________________\n",
            "conv2d_36 (Conv2D)              (None, None, None, 5 1179648     leaky_re_lu_35[0][0]             \n",
            "__________________________________________________________________________________________________\n",
            "batch_normalization_36 (BatchNo (None, None, None, 5 2048        conv2d_36[0][0]                  \n",
            "__________________________________________________________________________________________________\n",
            "leaky_re_lu_36 (LeakyReLU)      (None, None, None, 5 0           batch_normalization_36[0][0]     \n",
            "__________________________________________________________________________________________________\n",
            "add_15 (Add)                    (None, None, None, 5 0           add_14[0][0]                     \n",
            "                                                                 leaky_re_lu_36[0][0]             \n",
            "__________________________________________________________________________________________________\n",
            "conv2d_37 (Conv2D)              (None, None, None, 2 131072      add_15[0][0]                     \n",
            "__________________________________________________________________________________________________\n",
            "batch_normalization_37 (BatchNo (None, None, None, 2 1024        conv2d_37[0][0]                  \n",
            "__________________________________________________________________________________________________\n",
            "leaky_re_lu_37 (LeakyReLU)      (None, None, None, 2 0           batch_normalization_37[0][0]     \n",
            "__________________________________________________________________________________________________\n",
            "conv2d_38 (Conv2D)              (None, None, None, 5 1179648     leaky_re_lu_37[0][0]             \n",
            "__________________________________________________________________________________________________\n",
            "batch_normalization_38 (BatchNo (None, None, None, 5 2048        conv2d_38[0][0]                  \n",
            "__________________________________________________________________________________________________\n",
            "leaky_re_lu_38 (LeakyReLU)      (None, None, None, 5 0           batch_normalization_38[0][0]     \n",
            "__________________________________________________________________________________________________\n",
            "add_16 (Add)                    (None, None, None, 5 0           add_15[0][0]                     \n",
            "                                                                 leaky_re_lu_38[0][0]             \n",
            "__________________________________________________________________________________________________\n",
            "conv2d_39 (Conv2D)              (None, None, None, 2 131072      add_16[0][0]                     \n",
            "__________________________________________________________________________________________________\n",
            "batch_normalization_39 (BatchNo (None, None, None, 2 1024        conv2d_39[0][0]                  \n",
            "__________________________________________________________________________________________________\n",
            "leaky_re_lu_39 (LeakyReLU)      (None, None, None, 2 0           batch_normalization_39[0][0]     \n",
            "__________________________________________________________________________________________________\n",
            "conv2d_40 (Conv2D)              (None, None, None, 5 1179648     leaky_re_lu_39[0][0]             \n",
            "__________________________________________________________________________________________________\n",
            "batch_normalization_40 (BatchNo (None, None, None, 5 2048        conv2d_40[0][0]                  \n",
            "__________________________________________________________________________________________________\n",
            "leaky_re_lu_40 (LeakyReLU)      (None, None, None, 5 0           batch_normalization_40[0][0]     \n",
            "__________________________________________________________________________________________________\n",
            "add_17 (Add)                    (None, None, None, 5 0           add_16[0][0]                     \n",
            "                                                                 leaky_re_lu_40[0][0]             \n",
            "__________________________________________________________________________________________________\n",
            "conv2d_41 (Conv2D)              (None, None, None, 2 131072      add_17[0][0]                     \n",
            "__________________________________________________________________________________________________\n",
            "batch_normalization_41 (BatchNo (None, None, None, 2 1024        conv2d_41[0][0]                  \n",
            "__________________________________________________________________________________________________\n",
            "leaky_re_lu_41 (LeakyReLU)      (None, None, None, 2 0           batch_normalization_41[0][0]     \n",
            "__________________________________________________________________________________________________\n",
            "conv2d_42 (Conv2D)              (None, None, None, 5 1179648     leaky_re_lu_41[0][0]             \n",
            "__________________________________________________________________________________________________\n",
            "batch_normalization_42 (BatchNo (None, None, None, 5 2048        conv2d_42[0][0]                  \n",
            "__________________________________________________________________________________________________\n",
            "leaky_re_lu_42 (LeakyReLU)      (None, None, None, 5 0           batch_normalization_42[0][0]     \n",
            "__________________________________________________________________________________________________\n",
            "add_18 (Add)                    (None, None, None, 5 0           add_17[0][0]                     \n",
            "                                                                 leaky_re_lu_42[0][0]             \n",
            "__________________________________________________________________________________________________\n",
            "zero_padding2d_4 (ZeroPadding2D (None, None, None, 5 0           add_18[0][0]                     \n",
            "__________________________________________________________________________________________________\n",
            "conv2d_43 (Conv2D)              (None, None, None, 1 4718592     zero_padding2d_4[0][0]           \n",
            "__________________________________________________________________________________________________\n",
            "batch_normalization_43 (BatchNo (None, None, None, 1 4096        conv2d_43[0][0]                  \n",
            "__________________________________________________________________________________________________\n",
            "leaky_re_lu_43 (LeakyReLU)      (None, None, None, 1 0           batch_normalization_43[0][0]     \n",
            "__________________________________________________________________________________________________\n",
            "conv2d_44 (Conv2D)              (None, None, None, 5 524288      leaky_re_lu_43[0][0]             \n",
            "__________________________________________________________________________________________________\n",
            "batch_normalization_44 (BatchNo (None, None, None, 5 2048        conv2d_44[0][0]                  \n",
            "__________________________________________________________________________________________________\n",
            "leaky_re_lu_44 (LeakyReLU)      (None, None, None, 5 0           batch_normalization_44[0][0]     \n",
            "__________________________________________________________________________________________________\n",
            "conv2d_45 (Conv2D)              (None, None, None, 1 4718592     leaky_re_lu_44[0][0]             \n",
            "__________________________________________________________________________________________________\n",
            "batch_normalization_45 (BatchNo (None, None, None, 1 4096        conv2d_45[0][0]                  \n",
            "__________________________________________________________________________________________________\n",
            "leaky_re_lu_45 (LeakyReLU)      (None, None, None, 1 0           batch_normalization_45[0][0]     \n",
            "__________________________________________________________________________________________________\n",
            "add_19 (Add)                    (None, None, None, 1 0           leaky_re_lu_43[0][0]             \n",
            "                                                                 leaky_re_lu_45[0][0]             \n",
            "__________________________________________________________________________________________________\n",
            "conv2d_46 (Conv2D)              (None, None, None, 5 524288      add_19[0][0]                     \n",
            "__________________________________________________________________________________________________\n",
            "batch_normalization_46 (BatchNo (None, None, None, 5 2048        conv2d_46[0][0]                  \n",
            "__________________________________________________________________________________________________\n",
            "leaky_re_lu_46 (LeakyReLU)      (None, None, None, 5 0           batch_normalization_46[0][0]     \n",
            "__________________________________________________________________________________________________\n",
            "conv2d_47 (Conv2D)              (None, None, None, 1 4718592     leaky_re_lu_46[0][0]             \n",
            "__________________________________________________________________________________________________\n",
            "batch_normalization_47 (BatchNo (None, None, None, 1 4096        conv2d_47[0][0]                  \n",
            "__________________________________________________________________________________________________\n",
            "leaky_re_lu_47 (LeakyReLU)      (None, None, None, 1 0           batch_normalization_47[0][0]     \n",
            "__________________________________________________________________________________________________\n",
            "add_20 (Add)                    (None, None, None, 1 0           add_19[0][0]                     \n",
            "                                                                 leaky_re_lu_47[0][0]             \n",
            "__________________________________________________________________________________________________\n",
            "conv2d_48 (Conv2D)              (None, None, None, 5 524288      add_20[0][0]                     \n",
            "__________________________________________________________________________________________________\n",
            "batch_normalization_48 (BatchNo (None, None, None, 5 2048        conv2d_48[0][0]                  \n",
            "__________________________________________________________________________________________________\n",
            "leaky_re_lu_48 (LeakyReLU)      (None, None, None, 5 0           batch_normalization_48[0][0]     \n",
            "__________________________________________________________________________________________________\n",
            "conv2d_49 (Conv2D)              (None, None, None, 1 4718592     leaky_re_lu_48[0][0]             \n",
            "__________________________________________________________________________________________________\n",
            "batch_normalization_49 (BatchNo (None, None, None, 1 4096        conv2d_49[0][0]                  \n",
            "__________________________________________________________________________________________________\n",
            "leaky_re_lu_49 (LeakyReLU)      (None, None, None, 1 0           batch_normalization_49[0][0]     \n",
            "__________________________________________________________________________________________________\n",
            "add_21 (Add)                    (None, None, None, 1 0           add_20[0][0]                     \n",
            "                                                                 leaky_re_lu_49[0][0]             \n",
            "__________________________________________________________________________________________________\n",
            "conv2d_50 (Conv2D)              (None, None, None, 5 524288      add_21[0][0]                     \n",
            "__________________________________________________________________________________________________\n",
            "batch_normalization_50 (BatchNo (None, None, None, 5 2048        conv2d_50[0][0]                  \n",
            "__________________________________________________________________________________________________\n",
            "leaky_re_lu_50 (LeakyReLU)      (None, None, None, 5 0           batch_normalization_50[0][0]     \n",
            "__________________________________________________________________________________________________\n",
            "conv2d_51 (Conv2D)              (None, None, None, 1 4718592     leaky_re_lu_50[0][0]             \n",
            "__________________________________________________________________________________________________\n",
            "batch_normalization_51 (BatchNo (None, None, None, 1 4096        conv2d_51[0][0]                  \n",
            "__________________________________________________________________________________________________\n",
            "leaky_re_lu_51 (LeakyReLU)      (None, None, None, 1 0           batch_normalization_51[0][0]     \n",
            "__________________________________________________________________________________________________\n",
            "add_22 (Add)                    (None, None, None, 1 0           add_21[0][0]                     \n",
            "                                                                 leaky_re_lu_51[0][0]             \n",
            "__________________________________________________________________________________________________\n",
            "conv2d_52 (Conv2D)              (None, None, None, 5 524288      add_22[0][0]                     \n",
            "__________________________________________________________________________________________________\n",
            "batch_normalization_52 (BatchNo (None, None, None, 5 2048        conv2d_52[0][0]                  \n",
            "__________________________________________________________________________________________________\n",
            "leaky_re_lu_52 (LeakyReLU)      (None, None, None, 5 0           batch_normalization_52[0][0]     \n",
            "__________________________________________________________________________________________________\n",
            "conv2d_53 (Conv2D)              (None, None, None, 1 4718592     leaky_re_lu_52[0][0]             \n",
            "__________________________________________________________________________________________________\n",
            "batch_normalization_53 (BatchNo (None, None, None, 1 4096        conv2d_53[0][0]                  \n",
            "__________________________________________________________________________________________________\n",
            "leaky_re_lu_53 (LeakyReLU)      (None, None, None, 1 0           batch_normalization_53[0][0]     \n",
            "__________________________________________________________________________________________________\n",
            "conv2d_54 (Conv2D)              (None, None, None, 5 524288      leaky_re_lu_53[0][0]             \n",
            "__________________________________________________________________________________________________\n",
            "batch_normalization_54 (BatchNo (None, None, None, 5 2048        conv2d_54[0][0]                  \n",
            "__________________________________________________________________________________________________\n",
            "leaky_re_lu_54 (LeakyReLU)      (None, None, None, 5 0           batch_normalization_54[0][0]     \n",
            "__________________________________________________________________________________________________\n",
            "conv2d_55 (Conv2D)              (None, None, None, 1 4718592     leaky_re_lu_54[0][0]             \n",
            "__________________________________________________________________________________________________\n",
            "batch_normalization_55 (BatchNo (None, None, None, 1 4096        conv2d_55[0][0]                  \n",
            "__________________________________________________________________________________________________\n",
            "leaky_re_lu_55 (LeakyReLU)      (None, None, None, 1 0           batch_normalization_55[0][0]     \n",
            "__________________________________________________________________________________________________\n",
            "conv2d_56 (Conv2D)              (None, None, None, 5 524288      leaky_re_lu_55[0][0]             \n",
            "__________________________________________________________________________________________________\n",
            "batch_normalization_56 (BatchNo (None, None, None, 5 2048        conv2d_56[0][0]                  \n",
            "__________________________________________________________________________________________________\n",
            "leaky_re_lu_56 (LeakyReLU)      (None, None, None, 5 0           batch_normalization_56[0][0]     \n",
            "__________________________________________________________________________________________________\n",
            "conv2d_59 (Conv2D)              (None, None, None, 2 131072      leaky_re_lu_56[0][0]             \n",
            "__________________________________________________________________________________________________\n",
            "batch_normalization_58 (BatchNo (None, None, None, 2 1024        conv2d_59[0][0]                  \n",
            "__________________________________________________________________________________________________\n",
            "leaky_re_lu_58 (LeakyReLU)      (None, None, None, 2 0           batch_normalization_58[0][0]     \n",
            "__________________________________________________________________________________________________\n",
            "up_sampling2d (UpSampling2D)    (None, None, None, 2 0           leaky_re_lu_58[0][0]             \n",
            "__________________________________________________________________________________________________\n",
            "concatenate (Concatenate)       (None, None, None, 7 0           up_sampling2d[0][0]              \n",
            "                                                                 add_18[0][0]                     \n",
            "__________________________________________________________________________________________________\n",
            "conv2d_60 (Conv2D)              (None, None, None, 2 196608      concatenate[0][0]                \n",
            "__________________________________________________________________________________________________\n",
            "batch_normalization_59 (BatchNo (None, None, None, 2 1024        conv2d_60[0][0]                  \n",
            "__________________________________________________________________________________________________\n",
            "leaky_re_lu_59 (LeakyReLU)      (None, None, None, 2 0           batch_normalization_59[0][0]     \n",
            "__________________________________________________________________________________________________\n",
            "conv2d_61 (Conv2D)              (None, None, None, 5 1179648     leaky_re_lu_59[0][0]             \n",
            "__________________________________________________________________________________________________\n",
            "batch_normalization_60 (BatchNo (None, None, None, 5 2048        conv2d_61[0][0]                  \n",
            "__________________________________________________________________________________________________\n",
            "leaky_re_lu_60 (LeakyReLU)      (None, None, None, 5 0           batch_normalization_60[0][0]     \n",
            "__________________________________________________________________________________________________\n",
            "conv2d_62 (Conv2D)              (None, None, None, 2 131072      leaky_re_lu_60[0][0]             \n",
            "__________________________________________________________________________________________________\n",
            "batch_normalization_61 (BatchNo (None, None, None, 2 1024        conv2d_62[0][0]                  \n",
            "__________________________________________________________________________________________________\n",
            "leaky_re_lu_61 (LeakyReLU)      (None, None, None, 2 0           batch_normalization_61[0][0]     \n",
            "__________________________________________________________________________________________________\n",
            "conv2d_63 (Conv2D)              (None, None, None, 5 1179648     leaky_re_lu_61[0][0]             \n",
            "__________________________________________________________________________________________________\n",
            "batch_normalization_62 (BatchNo (None, None, None, 5 2048        conv2d_63[0][0]                  \n",
            "__________________________________________________________________________________________________\n",
            "leaky_re_lu_62 (LeakyReLU)      (None, None, None, 5 0           batch_normalization_62[0][0]     \n",
            "__________________________________________________________________________________________________\n",
            "conv2d_64 (Conv2D)              (None, None, None, 2 131072      leaky_re_lu_62[0][0]             \n",
            "__________________________________________________________________________________________________\n",
            "batch_normalization_63 (BatchNo (None, None, None, 2 1024        conv2d_64[0][0]                  \n",
            "__________________________________________________________________________________________________\n",
            "leaky_re_lu_63 (LeakyReLU)      (None, None, None, 2 0           batch_normalization_63[0][0]     \n",
            "__________________________________________________________________________________________________\n",
            "conv2d_67 (Conv2D)              (None, None, None, 1 32768       leaky_re_lu_63[0][0]             \n",
            "__________________________________________________________________________________________________\n",
            "batch_normalization_65 (BatchNo (None, None, None, 1 512         conv2d_67[0][0]                  \n",
            "__________________________________________________________________________________________________\n",
            "leaky_re_lu_65 (LeakyReLU)      (None, None, None, 1 0           batch_normalization_65[0][0]     \n",
            "__________________________________________________________________________________________________\n",
            "up_sampling2d_1 (UpSampling2D)  (None, None, None, 1 0           leaky_re_lu_65[0][0]             \n",
            "__________________________________________________________________________________________________\n",
            "concatenate_1 (Concatenate)     (None, None, None, 3 0           up_sampling2d_1[0][0]            \n",
            "                                                                 add_10[0][0]                     \n",
            "__________________________________________________________________________________________________\n",
            "conv2d_68 (Conv2D)              (None, None, None, 1 49152       concatenate_1[0][0]              \n",
            "__________________________________________________________________________________________________\n",
            "batch_normalization_66 (BatchNo (None, None, None, 1 512         conv2d_68[0][0]                  \n",
            "__________________________________________________________________________________________________\n",
            "leaky_re_lu_66 (LeakyReLU)      (None, None, None, 1 0           batch_normalization_66[0][0]     \n",
            "__________________________________________________________________________________________________\n",
            "conv2d_69 (Conv2D)              (None, None, None, 2 294912      leaky_re_lu_66[0][0]             \n",
            "__________________________________________________________________________________________________\n",
            "batch_normalization_67 (BatchNo (None, None, None, 2 1024        conv2d_69[0][0]                  \n",
            "__________________________________________________________________________________________________\n",
            "leaky_re_lu_67 (LeakyReLU)      (None, None, None, 2 0           batch_normalization_67[0][0]     \n",
            "__________________________________________________________________________________________________\n",
            "conv2d_70 (Conv2D)              (None, None, None, 1 32768       leaky_re_lu_67[0][0]             \n",
            "__________________________________________________________________________________________________\n",
            "batch_normalization_68 (BatchNo (None, None, None, 1 512         conv2d_70[0][0]                  \n",
            "__________________________________________________________________________________________________\n",
            "leaky_re_lu_68 (LeakyReLU)      (None, None, None, 1 0           batch_normalization_68[0][0]     \n",
            "__________________________________________________________________________________________________\n",
            "conv2d_71 (Conv2D)              (None, None, None, 2 294912      leaky_re_lu_68[0][0]             \n",
            "__________________________________________________________________________________________________\n",
            "batch_normalization_69 (BatchNo (None, None, None, 2 1024        conv2d_71[0][0]                  \n",
            "__________________________________________________________________________________________________\n",
            "leaky_re_lu_69 (LeakyReLU)      (None, None, None, 2 0           batch_normalization_69[0][0]     \n",
            "__________________________________________________________________________________________________\n",
            "conv2d_72 (Conv2D)              (None, None, None, 1 32768       leaky_re_lu_69[0][0]             \n",
            "__________________________________________________________________________________________________\n",
            "batch_normalization_70 (BatchNo (None, None, None, 1 512         conv2d_72[0][0]                  \n",
            "__________________________________________________________________________________________________\n",
            "leaky_re_lu_70 (LeakyReLU)      (None, None, None, 1 0           batch_normalization_70[0][0]     \n",
            "__________________________________________________________________________________________________\n",
            "conv2d_57 (Conv2D)              (None, None, None, 1 4718592     leaky_re_lu_56[0][0]             \n",
            "__________________________________________________________________________________________________\n",
            "conv2d_65 (Conv2D)              (None, None, None, 5 1179648     leaky_re_lu_63[0][0]             \n",
            "__________________________________________________________________________________________________\n",
            "conv2d_73 (Conv2D)              (None, None, None, 2 294912      leaky_re_lu_70[0][0]             \n",
            "__________________________________________________________________________________________________\n",
            "batch_normalization_57 (BatchNo (None, None, None, 1 4096        conv2d_57[0][0]                  \n",
            "__________________________________________________________________________________________________\n",
            "batch_normalization_64 (BatchNo (None, None, None, 5 2048        conv2d_65[0][0]                  \n",
            "__________________________________________________________________________________________________\n",
            "batch_normalization_71 (BatchNo (None, None, None, 2 1024        conv2d_73[0][0]                  \n",
            "__________________________________________________________________________________________________\n",
            "leaky_re_lu_57 (LeakyReLU)      (None, None, None, 1 0           batch_normalization_57[0][0]     \n",
            "__________________________________________________________________________________________________\n",
            "leaky_re_lu_64 (LeakyReLU)      (None, None, None, 5 0           batch_normalization_64[0][0]     \n",
            "__________________________________________________________________________________________________\n",
            "leaky_re_lu_71 (LeakyReLU)      (None, None, None, 2 0           batch_normalization_71[0][0]     \n",
            "__________________________________________________________________________________________________\n",
            "conv2d_58 (Conv2D)              (None, None, None, 1 166050      leaky_re_lu_57[0][0]             \n",
            "__________________________________________________________________________________________________\n",
            "conv2d_66 (Conv2D)              (None, None, None, 1 83106       leaky_re_lu_64[0][0]             \n",
            "__________________________________________________________________________________________________\n",
            "conv2d_74 (Conv2D)              (None, None, None, 1 41634       leaky_re_lu_71[0][0]             \n",
            "==================================================================================================\n",
            "Total params: 61,834,822\n",
            "Trainable params: 61,782,214\n",
            "Non-trainable params: 52,608\n",
            "__________________________________________________________________________________________________\n",
            "None\n",
            "WARNING:tensorflow:From /usr/local/lib/python3.6/dist-packages/tensorflow_core/python/keras/backend.py:4138: where (from tensorflow.python.ops.array_ops) is deprecated and will be removed in a future version.\n",
            "Instructions for updating:\n",
            "Use tf.where in 2.0, which has the same broadcast rule as np.where\n"
          ],
          "name": "stdout"
        }
      ]
    },
    {
      "cell_type": "code",
      "metadata": {
        "id": "uvEjnAeSi6uz",
        "colab_type": "code",
        "colab": {}
      },
      "source": [
        "model.summary()"
      ],
      "execution_count": 0,
      "outputs": []
    },
    {
      "cell_type": "code",
      "metadata": {
        "id": "Ece5S7PKi-dD",
        "colab_type": "code",
        "colab": {}
      },
      "source": [
        "model.compile(optimizer=optmz,loss = {'yolo_loss':lambda y_true,y_pred:y_pred})\n"
      ],
      "execution_count": 0,
      "outputs": []
    },
    {
      "cell_type": "code",
      "metadata": {
        "id": "bj7p0bGVB-5q",
        "colab_type": "code",
        "outputId": "d1378738-d863-436b-a190-9ad3d8c94204",
        "colab": {
          "base_uri": "https://localhost:8080/",
          "height": 54
        }
      },
      "source": [
        "model.load_weights(filepath)"
      ],
      "execution_count": 23,
      "outputs": [
        {
          "output_type": "execute_result",
          "data": {
            "text/plain": [
              "<tensorflow.python.training.tracking.util.CheckpointLoadStatus at 0x7f39d97fb3c8>"
            ]
          },
          "metadata": {
            "tags": []
          },
          "execution_count": 23
        }
      ]
    },
    {
      "cell_type": "code",
      "metadata": {
        "id": "w1CT8CUeGLWz",
        "colab_type": "code",
        "colab": {}
      },
      "source": [
        "model.evaluate_generator(gen_val.next_train_data(),steps =max(1,test_len//batch_size))"
      ],
      "execution_count": 0,
      "outputs": []
    },
    {
      "cell_type": "code",
      "metadata": {
        "id": "9NR0bXxqjdoJ",
        "colab_type": "code",
        "colab": {}
      },
      "source": [
        "batch_size=2\n",
        "gen_train = data_generator(input_shape,anchors,num_classes,train_index,batch_size)\n",
        "gen_val = data_generator(input_shape,anchors,num_classes,test_index,batch_size=batch_size)\n"
      ],
      "execution_count": 0,
      "outputs": []
    },
    {
      "cell_type": "markdown",
      "metadata": {
        "id": "6rnAmtXRLcOD",
        "colab_type": "text"
      },
      "source": [
        "Training on fixed loaded weights for about 30 epochs"
      ]
    },
    {
      "cell_type": "code",
      "metadata": {
        "id": "EaKZlFZBkV-8",
        "colab_type": "code",
        "outputId": "afa66cec-0b7b-430a-ce86-8868b70f5ec0",
        "colab": {
          "base_uri": "https://localhost:8080/",
          "height": 51
        }
      },
      "source": [
        "model.fit_generator(gen_train.next_train_data(),steps_per_epoch = max(1,train_len//batch_size),validation_data=gen_val.next_train_data(),validation_steps=max(1,test_len//batch_size),epochs=1,callbacks=[chekpoint,csv_logger,reduce_lr,early_stopping,logging])"
      ],
      "execution_count": 0,
      "outputs": [
        {
          "output_type": "stream",
          "text": [
            "1354/1354 [==============================] - 14038s 10s/step - loss: 4.8456 - val_loss: 4.8709\n"
          ],
          "name": "stdout"
        },
        {
          "output_type": "execute_result",
          "data": {
            "text/plain": [
              "<tensorflow.python.keras.callbacks.History at 0x7f54ca7ac400>"
            ]
          },
          "metadata": {
            "tags": []
          },
          "execution_count": 27
        }
      ]
    },
    {
      "cell_type": "code",
      "metadata": {
        "id": "qkuAB3bhhk-X",
        "colab_type": "code",
        "colab": {}
      },
      "source": [
        "image_id.keys()"
      ],
      "execution_count": 0,
      "outputs": []
    },
    {
      "cell_type": "code",
      "metadata": {
        "id": "q3sJjw2zzLBQ",
        "colab_type": "code",
        "outputId": "28b860ef-6c6f-42ce-f08b-809f1d6634e3",
        "colab": {
          "base_uri": "https://localhost:8080/",
          "height": 54
        }
      },
      "source": [
        "model.load_weights(filepath)"
      ],
      "execution_count": 0,
      "outputs": [
        {
          "output_type": "execute_result",
          "data": {
            "text/plain": [
              "<tensorflow.python.training.tracking.util.CheckpointLoadStatus at 0x7f7da3493080>"
            ]
          },
          "metadata": {
            "tags": []
          },
          "execution_count": 101
        }
      ]
    },
    {
      "cell_type": "code",
      "metadata": {
        "id": "7alIVvMlQuKB",
        "colab_type": "code",
        "colab": {}
      },
      "source": [
        "model_f =  Model(model.layers[0].input,[model.layers[249].output,model.layers[250].output,model.layers[251].output])"
      ],
      "execution_count": 0,
      "outputs": []
    },
    {
      "cell_type": "code",
      "metadata": {
        "id": "Q9NIHZzUxNRn",
        "colab_type": "code",
        "colab": {}
      },
      "source": [
        "def sigmoid(x):\n",
        "  return 1/(1+np.exp(-x))"
      ],
      "execution_count": 0,
      "outputs": []
    },
    {
      "cell_type": "code",
      "metadata": {
        "id": "SKNwUPwbwmzP",
        "colab_type": "code",
        "colab": {}
      },
      "source": [
        "def boundingboxes(youtput,anchors,num_classes):\n",
        "  num_anchors = len(anchors)\n",
        "  anchors = np.reshape(a,(1,1,1,num_anchors,2))\n",
        "  grid_shape = np.shape(youtput)[1:3]\n",
        "  grid_y = np.tile(np.reshape(np.arange(0,grid_shape[0]),[-1,1,1,1]),[1,grid_shape[1],1,1])\n",
        "  grid_x =  np.tile(np.reshape(np.arange(0,stop=grid_shape[1]),[1,-1,1,1]),[grid_shape[0],1,1,1])\n",
        "  grid = np.concatenate([grid_x,grid_y],axis=-1)\n",
        "  youtput = np.reshape(youtput,[-1,grid_shape[0],grid_shape[1],num_anchors,num_classes+5])\n",
        "  box_xy = (sigmoid(youtput[...,:2])+grid)/grid_shape[::-1]\n",
        "  box_wh =  np.exp(youtput[...,2:4])*a\n",
        "  box_confidence = sigmoid(youtput[...,4:5])\n",
        "  box_class_probs = sigmoid(youtput[...,5:])\n",
        "  box_yx = box_xy[...,::-1]*416\n",
        "  box_hw = box_wh[...,::-1]\n",
        "  box_mins = box_yx - (box_hw/2.)\n",
        "  box_maxes = box_yx + (box_hw/2.)\n",
        "  boxes = np.concatenate([box_mins[...,0:1],box_mins[...,1:2],box_maxes[...,0:1],box_maxes[...,1:2]],axis=-1)\n",
        "  boxes = np.reshape(boxes,[-1,4])\n",
        "  boxes_scores = box_confidence*box_class_probs\n",
        "  boxes_scores = np.reshape(boxes_scores,[-1,num_classes])\n",
        "  return boxes,boxes_scores"
      ],
      "execution_count": 0,
      "outputs": []
    },
    {
      "cell_type": "code",
      "metadata": {
        "id": "OmvM2wBX7xjl",
        "colab_type": "code",
        "colab": {}
      },
      "source": [
        "def non_max_suppression(boxes,thresh):\n",
        "  if len(boxes)==0:\n",
        "    return []\n",
        "\n",
        "  pick = []\n",
        "  y1 = boxes[:,0]\n",
        "  x1 = boxes[:,1]\n",
        "  x2 = boxes[:,2]\n",
        "  y2 = boxes[:,3]\n",
        "  area = (x2-x1+1)*(y2-y1+1)\n",
        "  idxs = np.argsort(y2)\n",
        "  while len(idxs)>0:\n",
        "    last = len(idxs) - 1\n",
        "    i = idxs[last]\n",
        "    pick.append(i)\n",
        "    yy1 = np.maximum(y1[i],y1[idxs[:last]])\n",
        "    xx1 = np.maximum(x1[i],x1[idxs[:last]])\n",
        "    xx2 = np.maximum(x2[i],x2[idxs[:last]])\n",
        "    yy2 = np.maximum(y2[i],y2[idxs[:last]])\n",
        "    w = np.maximum(0,xx2-xx1+1)\n",
        "    h = np.maximum(0,yy2-yy1+1)\n",
        "    overlap = (w*h)/area[idxs[:last]]\n",
        "    idxs = np.delete(idxs,np.concatenate(([last],np.where(overlap>thresh)[0])))\n",
        "  return pick  "
      ],
      "execution_count": 0,
      "outputs": []
    },
    {
      "cell_type": "code",
      "metadata": {
        "id": "IZ3_tN-L4Wft",
        "colab_type": "code",
        "colab": {}
      },
      "source": [
        "def eval(img,anchors,num_classes=num_classes,max_boxes=20,score_threshold=0.2,iou_threshold=0.5):\n",
        "  img = np.expand_dims(img,0)\n",
        "  prediction = model_f.predict(img)\n",
        "  num_layers = len(prediction)\n",
        "  mask = [[6,7,8],[3,4,5],[0,1,2]]\n",
        "  boxes = []\n",
        "  box_scores = []\n",
        "  for l in range(num_layers):\n",
        "    _boxes,_box_scores = boundingboxes(prediction[l],anchors[mask[l]],num_classes)\n",
        "    boxes.append(_boxes)\n",
        "    box_scores.append(_box_scores)\n",
        "  boxes = np.concatenate(boxes,axis=0)\n",
        "  #print(boxes.shape)\n",
        "  box_scores = np.concatenate(box_scores,axis=0)\n",
        "  mask = box_scores >= score_threshold\n",
        "  boxes_ = []\n",
        "  scores_ = []\n",
        "  classes_ = []\n",
        "  for c in range(num_classes):\n",
        "    class_boxes = boxes[mask[:,c]]\n",
        "    #print(class_boxes)\n",
        "    \n",
        "    class_box_scores = box_scores[mask[:,c]]\n",
        "    if class_boxes.shape[0]!=0:\n",
        "      nms_index =non_max_suppression(class_boxes,0.5)\n",
        "      class_boxes = class_boxes[nms_index]\n",
        "      class_box_scores = class_box_scores[nms_index]\n",
        "      c1=[]\n",
        "      for i in class_box_scores:\n",
        "        temp = (np.max(i))\n",
        "        c1.append(temp)\n",
        "      c1=np.array(c1)  \n",
        "      classes = np.ones_like(c1)*c\n",
        "      boxes_.append(class_boxes)\n",
        "      scores_.append(c1)\n",
        "      classes_.append(classes) \n",
        "  boxes_ = np.concatenate(boxes_,axis=0)\n",
        "  scores_=np.concatenate(scores_,axis=0)\n",
        "  classes_=np.concatenate(classes_,axis=0)\n",
        "  return boxes_,scores_,classes_   \n",
        "\n"
      ],
      "execution_count": 0,
      "outputs": []
    },
    {
      "cell_type": "code",
      "metadata": {
        "id": "DUNxxFyNRpIa",
        "colab_type": "code",
        "colab": {}
      },
      "source": [
        "def draw_bounding(img_file,anchors,score_threshold=0.2):\n",
        "  img = cv2.imread(img_file)\n",
        "  img1 = cv2.cvtColor(img,cv2.COLOR_BGR2RGB)\n",
        "  img1 = cv2.resize(img1,(416,416))\n",
        "  img1 = np.array(img1)/255.\n",
        "  anchor,score,classes = eval(img1,anchors,score_threshold=score_threshold)\n",
        "  #print(anchor[0][1],score[0],classes)\n",
        "  for i in range(len(anchor)):\n",
        "    #print(i)\n",
        "    color = np.random.randint(0,255)\n",
        "    #if score[i]>score_threshold:\n",
        "    cv2.rectangle(img,(int(anchor[i][1]+0.5)-70,int(anchor[i][0]+0.5)-70),(int(anchor[i][3]+0.5)+70,int(anchor[i][2]+0.5)+70),(color,color,color),2)\n",
        "    cv2.putText(img,dic[int(classes[i])],(int(anchor[i][1]+0.5+50)-1,int(anchor[i][0]+0.5+50)+1),cv2.FONT_HERSHEY_SIMPLEX,1,(255,255,255),2,cv2.LINE_AA)\n",
        "  img = cv2.cvtColor(img,cv2.COLOR_BGR2RGB)\n",
        "  plt.figure()\n",
        "  plt.imshow(img)\n",
        "  plt.axis('off')\n",
        "  plt.show()\n",
        "  plt.close()    \n"
      ],
      "execution_count": 0,
      "outputs": []
    },
    {
      "cell_type": "code",
      "metadata": {
        "id": "oVIyvEa_bDyb",
        "colab_type": "code",
        "colab": {
          "base_uri": "https://localhost:8080/",
          "height": 248
        },
        "outputId": "8e71ab30-6c5b-4482-8a0c-cb59bf117cb0"
      },
      "source": [
        "num = np.random.randint(0,len(image_data))\n",
        "image = image_id[num]\n",
        "draw_bounding(Img_dir+\"/\"+image,anchors,0.9)"
      ],
      "execution_count": 824,
      "outputs": [
        {
          "output_type": "display_data",
          "data": {
            "image/png": "[encoded data removed]",
            "text/plain": [
              "<Figure size 432x288 with 1 Axes>"
            ]
          },
          "metadata": {
            "tags": []
          }
        }
      ]
    },
    {
      "cell_type": "markdown",
      "metadata": {
        "id": "PNswrALNaimq",
        "colab_type": "text"
      },
      "source": [
        "Getting the subset of the layers used for actual yolo prediction"
      ]
    },
    {
      "cell_type": "code",
      "metadata": {
        "id": "2FijogJFZjjj",
        "colab_type": "code",
        "colab": {}
      },
      "source": [
        ""
      ],
      "execution_count": 0,
      "outputs": []
    },
    {
      "cell_type": "markdown",
      "metadata": {
        "id": "5mVhQB-rZkQx",
        "colab_type": "text"
      },
      "source": [
        "Open cv implementation\n",
        "\n",
        "Step1 : Freezing the model"
      ]
    },
    {
      "cell_type": "code",
      "metadata": {
        "id": "ddoToxISZjfE",
        "colab_type": "code",
        "colab": {}
      },
      "source": [
        "K.set_learning_phase(0)\n",
        "m =  Model(model.layers[0].input,[model.layers[251].output,model.layers[250].output,model.layers[249].output])\n",
        "sess = K.get_session()\n",
        "print(m.input,m.output)"
      ],
      "execution_count": 0,
      "outputs": []
    },
    {
      "cell_type": "code",
      "metadata": {
        "id": "6ff9N7X3tOFL",
        "colab_type": "code",
        "colab": {}
      },
      "source": [
        "input_node_name = \"input_1:0\"\n",
        "output_node_name = [\"\",\"conv2d_58/BiasAdd:0\"],"
      ],
      "execution_count": 0,
      "outputs": []
    },
    {
      "cell_type": "code",
      "metadata": {
        "id": "NpiRX4F2ZjRY",
        "colab_type": "code",
        "colab": {}
      },
      "source": [
        "frozen = tf.graph_util.convert_variables_to_constants(sess,sess.graph_def,[out.op.name for out in m.outputs])\n",
        "graph_io.write_graph(frozen,'./','yolo.pb',as_text=False)"
      ],
      "execution_count": 0,
      "outputs": []
    },
    {
      "cell_type": "code",
      "metadata": {
        "id": "PiAdRtLlqxe6",
        "colab_type": "code",
        "colab": {}
      },
      "source": [
        "#Read the graph\n",
        "with tf.gfile.GFile('graph.pb','rb')  as f:\n",
        "  graph_def = tf.GraphDef()\n",
        "  graph_def.ParseFromString(f.read())\n",
        "  sess.graph.as_default()\n",
        "  g_in = tf.import_graph_def(graph_def)"
      ],
      "execution_count": 0,
      "outputs": []
    },
    {
      "cell_type": "code",
      "metadata": {
        "id": "0E3zLuk8rpfU",
        "colab_type": "code",
        "colab": {}
      },
      "source": [
        "with tf.Session() as sess:\n",
        "  sess.graph.as_default()\n",
        "  tf.import_graph_def(graph_def,name='')"
      ],
      "execution_count": 0,
      "outputs": []
    },
    {
      "cell_type": "code",
      "metadata": {
        "id": "fZ1yzJZRtfNa",
        "colab_type": "code",
        "outputId": "7fca3e83-4686-49b6-f15f-40a346499fc3",
        "colab": {
          "base_uri": "https://localhost:8080/",
          "height": 34
        }
      },
      "source": [
        "#Strip const nodes\n",
        "for i in reversed(range(len(graph_def.node))):\n",
        "  if graph_def.node[i].op =='Const':\n",
        "    del graph_def.node[i]\n",
        "  for attr in ['T','data_format','Tshape','N','Tidx','Tdim','use_cudnn_on_gpu','Index','Tperm','is_training','Tpaddings']:\n",
        "    if attr in graph_def.node[i].attr:\n",
        "      del graph_def.node[i].attr[attr] \n",
        "tf.train.write_graph(graph_def,'./','yolo.pbtxt',as_text = True)       "
      ],
      "execution_count": 21,
      "outputs": [
        {
          "output_type": "execute_result",
          "data": {
            "text/plain": [
              "'./yolo.pbtxt'"
            ]
          },
          "metadata": {
            "tags": []
          },
          "execution_count": 21
        }
      ]
    },
    {
      "cell_type": "code",
      "metadata": {
        "id": "jAbR4BBryEDO",
        "colab_type": "code",
        "colab": {}
      },
      "source": [
        "net = cv2.dnn.readNet('yolo.pb')  "
      ],
      "execution_count": 0,
      "outputs": []
    },
    {
      "cell_type": "code",
      "metadata": {
        "id": "ko39dnz3mG7T",
        "colab_type": "code",
        "colab": {}
      },
      "source": [
        "import keras_to_tensorflow_convertor "
      ],
      "execution_count": 0,
      "outputs": []
    },
    {
      "cell_type": "code",
      "metadata": {
        "id": "NWW1dCv3t6wU",
        "colab_type": "code",
        "colab": {}
      },
      "source": [
        "from tensorflow.python.tools import optimize_for_inference_lib"
      ],
      "execution_count": 0,
      "outputs": []
    },
    {
      "cell_type": "code",
      "metadata": {
        "id": "gNy-iMNYvUn9",
        "colab_type": "code",
        "colab": {
          "base_uri": "https://localhost:8080/",
          "height": 51
        },
        "outputId": "049e3da0-ff76-4abf-9aed-a2e7087a3fc7"
      },
      "source": [
        "K.set_learning_phase(0)\n",
        "graph_def = sess.graph.as_graph_def()\n",
        "graph_def = tf.graph_util.convert_variables_to_constants(sess,sess.graph_def,[out.op.name for out in model.outputs])\n",
        "graph_def = optimize_for_inference_lib.optimize_for_inference(graph_def,[m.input.op.name],[out.op.name for out in m.outputs],tf.float32.as_datatype_enum)"
      ],
      "execution_count": 35,
      "outputs": [
        {
          "output_type": "stream",
          "text": [
            "INFO:tensorflow:Froze 366 variables.\n",
            "INFO:tensorflow:Converted 366 variables to const ops.\n"
          ],
          "name": "stdout"
        }
      ]
    },
    {
      "cell_type": "code",
      "metadata": {
        "id": "qvgCguTowIN3",
        "colab_type": "code",
        "colab": {
          "base_uri": "https://localhost:8080/",
          "height": 34
        },
        "outputId": "272afbcd-7e56-400e-c875-bc2cab51a4fc"
      },
      "source": [
        "tf.train.write_graph(graph_def,\"\",'graph.pb',as_text=False)"
      ],
      "execution_count": 36,
      "outputs": [
        {
          "output_type": "execute_result",
          "data": {
            "text/plain": [
              "'graph.pb'"
            ]
          },
          "metadata": {
            "tags": []
          },
          "execution_count": 36
        }
      ]
    },
    {
      "cell_type": "code",
      "metadata": {
        "id": "oukyXC1Gwk4U",
        "colab_type": "code",
        "colab": {
          "base_uri": "https://localhost:8080/",
          "height": 184
        },
        "outputId": "8bc19f52-388d-44a3-c223-092c9f72adde"
      },
      "source": [
        "net = cv2.dnn.readNet('graph.pb')  "
      ],
      "execution_count": 37,
      "outputs": [
        {
          "output_type": "error",
          "ename": "error",
          "evalue": "ignored",
          "traceback": [
            "\u001b[0;31m---------------------------------------------------------------------------\u001b[0m",
            "\u001b[0;31merror\u001b[0m                                     Traceback (most recent call last)",
            "\u001b[0;32m<ipython-input-37-88f5300c57b2>\u001b[0m in \u001b[0;36m<module>\u001b[0;34m()\u001b[0m\n\u001b[0;32m----> 1\u001b[0;31m \u001b[0mnet\u001b[0m \u001b[0;34m=\u001b[0m \u001b[0mcv2\u001b[0m\u001b[0;34m.\u001b[0m\u001b[0mdnn\u001b[0m\u001b[0;34m.\u001b[0m\u001b[0mreadNet\u001b[0m\u001b[0;34m(\u001b[0m\u001b[0;34m'graph.pb'\u001b[0m\u001b[0;34m)\u001b[0m\u001b[0;34m\u001b[0m\u001b[0;34m\u001b[0m\u001b[0m\n\u001b[0m",
            "\u001b[0;31merror\u001b[0m: OpenCV(3.4.3) /io/opencv/modules/dnn/src/tensorflow/tf_graph_simplifier.cpp:771: error: (-2:Unspecified error) Tensor's data type is not supported in function 'getTensorContent'\n"
          ]
        }
      ]
    },
    {
      "cell_type": "code",
      "metadata": {
        "id": "Ca0PjecowoLx",
        "colab_type": "code",
        "colab": {}
      },
      "source": [
        "g_in"
      ],
      "execution_count": 0,
      "outputs": []
    },
    {
      "cell_type": "code",
      "metadata": {
        "id": "c6qRV5sTyfrz",
        "colab_type": "code",
        "colab": {}
      },
      "source": [
        ""
      ],
      "execution_count": 0,
      "outputs": []
    }
  ]
}